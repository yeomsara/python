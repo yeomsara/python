{
 "cells": [
  {
   "cell_type": "markdown",
   "metadata": {},
   "source": [
    "# DB연결하기"
   ]
  },
  {
   "cell_type": "code",
   "execution_count": 3,
   "metadata": {
    "ExecuteTime": {
     "end_time": "2021-02-15T02:27:53.199640Z",
     "start_time": "2021-02-15T02:27:53.176496Z"
    },
    "code_folding": []
   },
   "outputs": [
    {
     "name": "stdout",
     "output_type": "stream",
     "text": [
      "================================================\n",
      "============= Argument setting =================\n",
      "DNA_YM : 202009\n",
      "BF_M : 3\n",
      "================================================\n"
     ]
    }
   ],
   "source": [
    "import configparser\n",
    "global HOST,PORT,DB_ID,DB_PW,MODEL_DIR,MODEL_NAME\n",
    "conf_dir = '/home/cdsadmin/python_src/EY/Emart/conf/config.ini'\n",
    "cfg = configparser.ConfigParser(interpolation=configparser.ExtendedInterpolation())\n",
    "cfg.read(conf_dir)\n",
    "\n",
    "HOST      = cfg['dbconnect']['host']\n",
    "PORT      = int(cfg['dbconnect']['port'])\n",
    "DB_ID     = cfg['dbconnect']['ID']\n",
    "DB_PW     = cfg['dbconnect']['PW']\n",
    "MODEL_DIR = cfg['event']['MODEL_DIR']\n",
    "\n",
    "###==========================================================================###\n",
    "import numpy as np\n",
    "import pandas as pd \n",
    "import time,os,psutil\n",
    "from hdbcli import dbapi ## hana DB client \n",
    "from IPython.core.display import display, HTML\n",
    "import multiprocessing\n",
    "import matplotlib.pyplot as plt\n",
    "from sklearn.preprocessing import StandardScaler,MinMaxScaler\n",
    "from collections import Counter\n",
    "import seaborn as sns\n",
    "from sklearn.ensemble   import RandomForestClassifier,GradientBoostingClassifier\n",
    "from xgboost            import XGBClassifier\n",
    "from lightgbm           import LGBMClassifier\n",
    "from sklearn.inspection import permutation_importance\n",
    "from sklearn.model_selection import train_test_split\n",
    "from sklearn.linear_model    import LogisticRegression\n",
    "from sklearn.metrics         import confusion_matrix,precision_score,recall_score,\\\n",
    "                                      f1_score,accuracy_score,roc_auc_score,roc_curve,auc,\\\n",
    "                                      classification_report,precision_recall_curve\n",
    "\n",
    "def DB_Connection() :\n",
    "    conn=dbapi.connect(HOST,PORT,DB_ID,DB_PW)\n",
    "    return conn\n",
    "\n",
    "def select_query(sql) :\n",
    "    conn = DB_Connection()\n",
    "    cnt = pd.read_sql(sql, conn)\n",
    "    conn.close()\n",
    "    \n",
    "def load_model(filename):\n",
    "    model_dir  = MODEL_DIR+filename\n",
    "    load_model = joblib.load(model_dir)\n",
    "    return load_model\n",
    "\n",
    "def query_SQL( query ): \n",
    "    ## DB Connection\n",
    "    conn=DB_Connection() ## DB 연결 정보\n",
    "    ## Get a DataFrame \n",
    "    start_time = time.time()\n",
    "    query_result = pd.read_sql(query, conn)\n",
    "    ## Close Connection\n",
    "    print( '---- %s seconds ------'%(time.time()-start_time))\n",
    "    conn.close()\n",
    "    \n",
    "    return query_result\n",
    "\n",
    "# 예측하고자하는 년월을 입력하면 앞전 3개월치의 데이터를 자동으로 로드해옴\n",
    "#----------------------------------------------------------\n",
    "# Configuration variable \n",
    "#----------------------------------------------------------\n",
    "DNA_YM = '202009'\n",
    "BF_M   = 3\n",
    "\n",
    "print(\"================================================\")\n",
    "print(\"============= Argument setting =================\")\n",
    "print(\"DNA_YM : \",DNA_YM,\n",
    "      \"\\nBF_M : \",BF_M,sep=\"\")\n",
    "print(\"================================================\")\n",
    "\n",
    "DATE= f'''TO_CHAR(R.BSN_DT,'YYYYMM') BETWEEN ADD_MONTHS (TO_CHAR ('{DNA_YM}', 'YYYYMM'),-{BF_M}) AND ADD_MONTHS (TO_CHAR ('{DNA_YM}', 'YYYYMM'), -1)'''\n",
    "\n",
    "YM_WCNT=DNA_YM+'01'\n",
    "EVENT_MONTH= DNA_YM"
   ]
  },
  {
   "cell_type": "markdown",
   "metadata": {},
   "source": [
    "# 데이터 추출"
   ]
  },
  {
   "cell_type": "code",
   "execution_count": 10,
   "metadata": {
    "ExecuteTime": {
     "end_time": "2021-02-15T02:35:36.601435Z",
     "start_time": "2021-02-15T02:35:36.591652Z"
    },
    "code_folding": [],
    "scrolled": true
   },
   "outputs": [
    {
     "name": "stdout",
     "output_type": "stream",
     "text": [
      "\n",
      "-- SKU Basket 비중\n",
      "WITH BASE_RCIP_CUST_ID AS ( SELECT A.CUST_ID,A.BSN_DT,A.PRDT_CD,A.AFLCO_CD ,A.BIZTP_CD\n",
      "                            FROM CDS_DW.TB_DW_RCIPT_DETAIL A \n",
      "                            WHERE   A.AFLCO_CD ='001'\n",
      "                                AND A.BIZTP_CD ='10'\n",
      "                                AND A.RL_SALE_TRGT_YN = 'Y'\n",
      "                                AND TO_CHAR(A.BSN_DT,'YYYYMM') BETWEEN ADD_MONTHS (TO_CHAR ('202009', 'YYYYMM'),-3) AND ADD_MONTHS (TO_CHAR ('202009', 'YYYYMM'), 0) --고객산출 기간변경\n",
      "                                AND A.CUST_ID IS NOT NULL)\n",
      "    ,EMART_PRODUCT_LIST AS ( SELECT D.PRDT_DCODE_CD,D.PRDT_DCODE_NM,PRDT_CD,PRDT_NM\n",
      "\t\t\t\t\t\t\tFROM CDS_DW.TB_DW_PRDT_MASTR AS A\n",
      "\t\t\t\t\t\t\tLEFT JOIN CDS_DW.TB_DW_PRDT_DCODE_CD AS D\n",
      "\t\t\t\t\t\t\t ON A.PRDT_DCODE_CD=D.PRDT_DCODE_CD AND D.AFLCO_CD = A.AFLCO_CD AND D.BIZTP_CD = A.BIZTP_CD \n",
      "\t\t\t\t\t\t\t WHERE PRDT_NM LIKE('%국산의%')\n",
      "\t\t\t\t\t\t\t AND A.AFLCO_CD='001'\n",
      "\t\t\t\t\t\t\t AND A.BIZTP_CD='10')\n",
      "SELECT  A.CUST_ID \t\t\t\t\t\t\t\t\t\t\t\t\t\t\t\t\t\t\t\t\t   \t       AS CUST_ID         \n",
      "      , (CASE WHEN SUM(PURCHA_SKU) IS NULL THEN 0 ELSE SUM(PURCHA_SKU) END)/SUM(TOT_SKU_VISIT)         \t       AS RATIO_SKU\n",
      "      , (CASE WHEN MAX(C.AVG_MAIN_PURCHS_SCORE) IS NULL THEN 0 ELSE MAX(C.AVG_MAIN_PURCHS_SCORE) END)          AS DCODE_MAIN_PURCHS_SCORE_F\n",
      "      , (CASE WHEN MAX(D.TOTAL_EVENT_TYP_PRE_UNITY) IS NULL THEN 0 ELSE MAX(D.TOTAL_EVENT_TYP_PRE_UNITY) END)  AS TOTAL_EVENT_TYP_PRE_UNITY\n",
      "      , (CASE WHEN MAX(E.HGHPC_PREFER) IS NULL THEN 0 ELSE MAX(E.HGHPC_PREFER) END)     \t\t\t           AS HGHPC_PREFER\n",
      "      , CAST(MAX(CASE WHEN F.K_PRDT_CD > 0 THEN 1 ELSE 0 END ) AS DECIMAL)                                     AS PURCHA_MONTH \n",
      "-- A: 최근 3개월 동안 구매이력이 있는 고객의 방문횟수\n",
      "FROM (\n",
      "        SELECT CUST_ID,PRDT_CD,COUNT(DISTINCT BSN_DT) AS TOT_SKU_VISIT\n",
      "        FROM BASE_RCIP_CUST_ID\n",
      "        WHERE TO_CHAR(BSN_DT,'YYYYMM') BETWEEN ADD_MONTHS (TO_CHAR ('202009', 'YYYYMM'),-3) AND ADD_MONTHS (TO_CHAR ('202009', 'YYYYMM'), -1)\n",
      "        GROUP BY CUST_ID,PRDT_CD\n",
      "      ) A \n",
      "-- B: 고객별 국산의힘 상품 구매횟수\n",
      "LEFT JOIN (SELECT A.CUST_ID,A.PRDT_CD,COUNT(DISTINCT A.BSN_DT) AS PURCHA_SKU\n",
      "            FROM BASE_RCIP_CUST_ID A\n",
      "            JOIN EMART_PRODUCT_LIST B ON A.PRDT_CD = B.PRDT_CD\n",
      "            WHERE B.PRDT_CD IS NOT NULL \n",
      "            AND TO_CHAR(A.BSN_DT,'YYYYMM') BETWEEN ADD_MONTHS (TO_CHAR ('202009', 'YYYYMM'),-3) AND ADD_MONTHS (TO_CHAR ('202009', 'YYYYMM'), -1)\n",
      "            GROUP BY A.CUST_ID,A.PRDT_CD \n",
      "          ) B ON A.CUST_ID = B.CUST_ID AND A.PRDT_CD = B.PRDT_CD \n",
      "---- C : 주 구매 스코어\n",
      "LEFT JOIN (\n",
      "            SELECT CUST_ID,AVG(MAIN_PURCHS_SCORE) AS AVG_MAIN_PURCHS_SCORE\n",
      "            FROM CDS_AMT.TB_AMT_CUST_PRDT_DNA_DATA \n",
      "            WHERE YM_WCNT='20200901'\n",
      "            AND AFLCO_CD ='001'\n",
      "            AND BIZTP_CD ='10' \n",
      "            AND PRDT_DCODE_CD IN (SELECT DISTINCT PRDT_DCODE_CD FROM EMART_PRODUCT_LIST)\n",
      "            GROUP BY CUST_ID\n",
      "          ) C ON A.CUST_ID = C.CUST_ID\n",
      "---- D : 행사 이벤트 선호도 \n",
      "LEFT JOIN ( \n",
      "            SELECT CUST_ID,CASE WHEN EVENT_TYP_PRE_UNITY IS NULL THEN 0 ELSE EVENT_TYP_PRE_UNITY END AS TOTAL_EVENT_TYP_PRE_UNITY\n",
      "            FROM CDS_AMT.TB_AMT_BIZTP_CUST_DNA_DATA\n",
      "            WHERE YM_WCNT ='20200901' --월 변경\n",
      "            AND AFLCO_CD ='001'\n",
      "            AND BIZTP_CD ='10'\n",
      "            ORDER BY EVENT_TYP_PRE_UNITY DESC\n",
      "           ) AS D ON A.CUST_ID = D.CUST_ID\n",
      "-- E : 고가 선호도\n",
      "LEFT JOIN (\n",
      "            SELECT CUST_ID,CASE WHEN HGHPC_PREFER IS NULL THEN 0 ELSE HGHPC_PREFER END AS HGHPC_PREFER\n",
      "            FROM TB_AMT_AFLCO_CUST_DNA_DATA\n",
      "            WHERE YM_WCNT ='20200901' \n",
      "            AND AFLCO_CD ='001'\n",
      "          ) AS E ON A.CUST_ID = E.CUST_ID\n",
      "---- ★  F : Target (운영에는 학습시에만 필요)\n",
      "LEFT JOIN (\n",
      "\t\t    SELECT A.CUST_ID,COUNT(B.PRDT_CD) AS K_PRDT_CD\n",
      "            FROM BASE_RCIP_CUST_ID A\n",
      "            LEFT JOIN EMART_PRODUCT_LIST B ON A.PRDT_CD = B.PRDT_CD\n",
      "            WHERE B.PRDT_CD IS NOT NULL \n",
      "            AND TO_CHAR(A.BSN_DT,'YYYYMM') = '202009'\n",
      "            GROUP BY A.CUST_ID\n",
      "          ) F ON A.CUST_ID = F.CUST_ID \n",
      "GROUP BY A.CUST_ID\n",
      "    \n"
     ]
    }
   ],
   "source": [
    "query1=f'''\n",
    "-- SKU Basket 비중\n",
    "WITH BASE_RCIP_CUST_ID AS ( SELECT A.CUST_ID,A.BSN_DT,A.PRDT_CD,A.AFLCO_CD ,A.BIZTP_CD\n",
    "                            FROM CDS_DW.TB_DW_RCIPT_DETAIL A \n",
    "                            WHERE   A.AFLCO_CD ='001'\n",
    "                                AND A.BIZTP_CD ='10'\n",
    "                                AND A.RL_SALE_TRGT_YN = 'Y'\n",
    "                                AND TO_CHAR(A.BSN_DT,'YYYYMM') BETWEEN ADD_MONTHS (TO_CHAR ('{DNA_YM}', 'YYYYMM'),-3) AND ADD_MONTHS (TO_CHAR ('{DNA_YM}', 'YYYYMM'), 0) --고객산출 기간변경\n",
    "                                AND A.CUST_ID IS NOT NULL)\n",
    "    ,EMART_PRODUCT_LIST AS ( SELECT D.PRDT_DCODE_CD,D.PRDT_DCODE_NM,PRDT_CD,PRDT_NM\n",
    "\t\t\t\t\t\t\tFROM CDS_DW.TB_DW_PRDT_MASTR AS A\n",
    "\t\t\t\t\t\t\tLEFT JOIN CDS_DW.TB_DW_PRDT_DCODE_CD AS D\n",
    "\t\t\t\t\t\t\t ON A.PRDT_DCODE_CD=D.PRDT_DCODE_CD AND D.AFLCO_CD = A.AFLCO_CD AND D.BIZTP_CD = A.BIZTP_CD \n",
    "\t\t\t\t\t\t\t WHERE PRDT_NM LIKE('%국산의%')\n",
    "\t\t\t\t\t\t\t AND A.AFLCO_CD='001'\n",
    "\t\t\t\t\t\t\t AND A.BIZTP_CD='10')\n",
    "SELECT  A.CUST_ID \t\t\t\t\t\t\t\t\t\t\t\t\t\t\t\t\t\t\t\t\t   \t       AS CUST_ID         \n",
    "      , (CASE WHEN SUM(PURCHA_SKU) IS NULL THEN 0 ELSE SUM(PURCHA_SKU) END)/SUM(TOT_SKU_VISIT)         \t       AS RATIO_SKU\n",
    "      , (CASE WHEN MAX(C.AVG_MAIN_PURCHS_SCORE) IS NULL THEN 0 ELSE MAX(C.AVG_MAIN_PURCHS_SCORE) END)          AS DCODE_MAIN_PURCHS_SCORE_F\n",
    "      , (CASE WHEN MAX(D.TOTAL_EVENT_TYP_PRE_UNITY) IS NULL THEN 0 ELSE MAX(D.TOTAL_EVENT_TYP_PRE_UNITY) END)  AS TOTAL_EVENT_TYP_PRE_UNITY\n",
    "      , (CASE WHEN MAX(E.HGHPC_PREFER) IS NULL THEN 0 ELSE MAX(E.HGHPC_PREFER) END)     \t\t\t           AS HGHPC_PREFER\n",
    "      , CAST(MAX(CASE WHEN F.K_PRDT_CD > 0 THEN 1 ELSE 0 END ) AS DECIMAL)                                     AS PURCHA_MONTH \n",
    "-- A: 최근 3개월 동안 구매이력이 있는 고객의 방문횟수\n",
    "FROM (\n",
    "        SELECT CUST_ID,PRDT_CD,COUNT(DISTINCT BSN_DT) AS TOT_SKU_VISIT\n",
    "        FROM BASE_RCIP_CUST_ID\n",
    "        WHERE TO_CHAR(BSN_DT,'YYYYMM') BETWEEN ADD_MONTHS (TO_CHAR ('{DNA_YM}', 'YYYYMM'),-3) AND ADD_MONTHS (TO_CHAR ('{DNA_YM}', 'YYYYMM'), -1)\n",
    "        GROUP BY CUST_ID,PRDT_CD\n",
    "      ) A \n",
    "-- B: 고객별 국산의힘 상품 구매횟수\n",
    "LEFT JOIN (SELECT A.CUST_ID,A.PRDT_CD,COUNT(DISTINCT A.BSN_DT) AS PURCHA_SKU\n",
    "            FROM BASE_RCIP_CUST_ID A\n",
    "            JOIN EMART_PRODUCT_LIST B ON A.PRDT_CD = B.PRDT_CD\n",
    "            WHERE B.PRDT_CD IS NOT NULL \n",
    "            AND TO_CHAR(A.BSN_DT,'YYYYMM') BETWEEN ADD_MONTHS (TO_CHAR ('{DNA_YM}', 'YYYYMM'),-3) AND ADD_MONTHS (TO_CHAR ('{DNA_YM}', 'YYYYMM'), -1)\n",
    "            GROUP BY A.CUST_ID,A.PRDT_CD \n",
    "          ) B ON A.CUST_ID = B.CUST_ID AND A.PRDT_CD = B.PRDT_CD \n",
    "---- C : 주 구매 스코어\n",
    "LEFT JOIN (\n",
    "            SELECT CUST_ID,AVG(MAIN_PURCHS_SCORE) AS AVG_MAIN_PURCHS_SCORE\n",
    "            FROM CDS_AMT.TB_AMT_CUST_PRDT_DNA_DATA \n",
    "            WHERE YM_WCNT='{YM_WCNT}'\n",
    "            AND AFLCO_CD ='001'\n",
    "            AND BIZTP_CD ='10' \n",
    "            AND PRDT_DCODE_CD IN (SELECT DISTINCT PRDT_DCODE_CD FROM EMART_PRODUCT_LIST)\n",
    "            GROUP BY CUST_ID\n",
    "          ) C ON A.CUST_ID = C.CUST_ID\n",
    "---- D : 행사 이벤트 선호도 \n",
    "LEFT JOIN ( \n",
    "            SELECT CUST_ID,CASE WHEN EVENT_TYP_PRE_UNITY IS NULL THEN 0 ELSE EVENT_TYP_PRE_UNITY END AS TOTAL_EVENT_TYP_PRE_UNITY\n",
    "            FROM CDS_AMT.TB_AMT_BIZTP_CUST_DNA_DATA\n",
    "            WHERE YM_WCNT ='{YM_WCNT}' --월 변경\n",
    "            AND AFLCO_CD ='001'\n",
    "            AND BIZTP_CD ='10'\n",
    "            ORDER BY EVENT_TYP_PRE_UNITY DESC\n",
    "           ) AS D ON A.CUST_ID = D.CUST_ID\n",
    "-- E : 고가 선호도\n",
    "LEFT JOIN (\n",
    "            SELECT CUST_ID,CASE WHEN HGHPC_PREFER IS NULL THEN 0 ELSE HGHPC_PREFER END AS HGHPC_PREFER\n",
    "            FROM TB_AMT_AFLCO_CUST_DNA_DATA\n",
    "            WHERE YM_WCNT ='{YM_WCNT}' \n",
    "            AND AFLCO_CD ='001'\n",
    "          ) AS E ON A.CUST_ID = E.CUST_ID\n",
    "---- ★  F : Target (운영에는 학습시에만 필요)\n",
    "LEFT JOIN (\n",
    "\t\t    SELECT A.CUST_ID,COUNT(B.PRDT_CD) AS K_PRDT_CD\n",
    "            FROM BASE_RCIP_CUST_ID A\n",
    "            LEFT JOIN EMART_PRODUCT_LIST B ON A.PRDT_CD = B.PRDT_CD\n",
    "            WHERE B.PRDT_CD IS NOT NULL \n",
    "            AND TO_CHAR(A.BSN_DT,'YYYYMM') = '{DNA_YM}'\n",
    "            GROUP BY A.CUST_ID\n",
    "          ) F ON A.CUST_ID = F.CUST_ID \n",
    "GROUP BY A.CUST_ID\n",
    "    '''\n",
    "print(query1)"
   ]
  },
  {
   "cell_type": "code",
   "execution_count": 11,
   "metadata": {
    "ExecuteTime": {
     "end_time": "2021-02-15T02:41:50.498699Z",
     "start_time": "2021-02-15T02:35:39.978338Z"
    },
    "scrolled": false
   },
   "outputs": [
    {
     "name": "stdout",
     "output_type": "stream",
     "text": [
      "---- 370.4586055278778 seconds ------\n"
     ]
    }
   ],
   "source": [
    "KUKSAN_PRICE_FEATURE = query_SQL(query1)\n",
    "KUKSAN_PRICE_FEATURE"
   ]
  },
  {
   "cell_type": "code",
   "execution_count": 13,
   "metadata": {
    "ExecuteTime": {
     "end_time": "2021-02-15T02:42:03.950941Z",
     "start_time": "2021-02-15T02:42:03.781851Z"
    }
   },
   "outputs": [
    {
     "name": "stdout",
     "output_type": "stream",
     "text": [
      "<class 'pandas.core.frame.DataFrame'>\n",
      "RangeIndex: 6831894 entries, 0 to 6831893\n",
      "Data columns (total 6 columns):\n",
      " #   Column                     Dtype  \n",
      "---  ------                     -----  \n",
      " 0   CUST_ID                    object \n",
      " 1   RATIO_SKU                  float64\n",
      " 2   DCODE_MAIN_PURCHS_SCORE_F  float64\n",
      " 3   TOTAL_EVENT_TYP_PRE_UNITY  float64\n",
      " 4   HGHPC_PREFER               float64\n",
      " 5   PURCHA_MONTH               int64  \n",
      "dtypes: float64(4), int64(1), object(1)\n",
      "memory usage: 312.7+ MB\n"
     ]
    }
   ],
   "source": [
    "feature_name  = ['CUST_ID','RATIO_SKU', 'DCODE_MAIN_PURCHS_SCORE_F', 'TOTAL_EVENT_TYP_PRE_UNITY', 'HGHPC_PREFER','PURCHA_MONTH']\n",
    "KUKSAN_PRICE_FEATURE.columns = feature_name\n",
    "KUKSAN_PRICE_FEATURE['PURCHA_MONTH'] = KUKSAN_PRICE_FEATURE['PURCHA_MONTH'].astype(int)\n",
    "KUKSAN_PRICE_FEATURE.info()"
   ]
  },
  {
   "cell_type": "markdown",
   "metadata": {
    "ExecuteTime": {
     "end_time": "2021-02-03T11:30:50.092252Z",
     "start_time": "2021-02-03T11:30:50.089650Z"
    }
   },
   "source": [
    "## Split train / test set"
   ]
  },
  {
   "cell_type": "code",
   "execution_count": 14,
   "metadata": {
    "ExecuteTime": {
     "end_time": "2021-02-15T02:42:24.296183Z",
     "start_time": "2021-02-15T02:42:15.158716Z"
    }
   },
   "outputs": [
    {
     "name": "stdout",
     "output_type": "stream",
     "text": [
      "x_train length : 5465515\n",
      "y_train length : 5465515\n",
      "x_test  length : 1366379\n",
      "y_test  length : 1366379\n",
      "all   0 class   : 6698068 | all   1 class : 133826 \n",
      "train 0 class   : 5358454 | train 1 class : 107061 \n",
      "test  0 class   : 1339614 | test  1 class : 26765 \n"
     ]
    }
   ],
   "source": [
    "KUKSAN_PRICE_FEATURE_processed_num =KUKSAN_PRICE_FEATURE.apply(pd.to_numeric, errors = 'coerce').fillna(0)\n",
    "X = KUKSAN_PRICE_FEATURE[feature_name[1:-1]]\n",
    "y = KUKSAN_PRICE_FEATURE['PURCHA_MONTH']\n",
    "\n",
    "x_train, x_test, y_train, y_test = train_test_split(X, y,test_size=0.2,random_state=123,stratify=y)\n",
    "\n",
    "print('x_train length : %s'%len(x_train))\n",
    "print('y_train length : %s'%len(y_train))\n",
    "print('x_test  length : %s'%len(x_test))\n",
    "print('y_test  length : %s'%len(y_test))\n",
    "print('all   0 class   : %s | all   1 class : %s '%(Counter(y)[0],Counter(y)[1]))\n",
    "print('train 0 class   : %s | train 1 class : %s '%(Counter(y_train)[0] ,Counter(y_train)[1]))\n",
    "print('test  0 class   : %s | test  1 class : %s '%(Counter(y_test)[0]  ,Counter(y_test)[1]))"
   ]
  },
  {
   "cell_type": "markdown",
   "metadata": {},
   "source": [
    "# weight(Logistic Regression/RandomForest) 산출"
   ]
  },
  {
   "cell_type": "code",
   "execution_count": 15,
   "metadata": {
    "ExecuteTime": {
     "end_time": "2021-02-15T02:42:29.316103Z",
     "start_time": "2021-02-15T02:42:29.306915Z"
    },
    "scrolled": true
   },
   "outputs": [],
   "source": [
    "def feature_weight_calculate(df,cat):\n",
    "    data = df.reindex(columns=feature_name[1:-1])\n",
    "    df_cols = data.columns\n",
    "    data['ESTIMATOR'] = cat\n",
    "    denominator  = (data['RATIO_SKU']+data['DCODE_MAIN_PURCHS_SCORE_F']+data['TOTAL_EVENT_TYP_PRE_UNITY']+data['HGHPC_PREFER'])\n",
    "    scale_cols = ['ESTIMATOR']\n",
    "    for i in range(0,len(df_cols)):\n",
    "        cols = str(df_cols[i])+\"_SCALED\"\n",
    "        scale_cols.append(cols)\n",
    "        data[cols] = data[df_cols[i]]/denominator\n",
    "    return data[scale_cols]"
   ]
  },
  {
   "cell_type": "markdown",
   "metadata": {
    "ExecuteTime": {
     "end_time": "2021-01-18T06:54:39.389955Z",
     "start_time": "2021-01-18T06:54:39.387960Z"
    }
   },
   "source": [
    "# Feature importance Weight "
   ]
  },
  {
   "cell_type": "markdown",
   "metadata": {},
   "source": [
    "### (Ramdom Forest -> LGBM 으로 변경) 속도 및 성능차이"
   ]
  },
  {
   "cell_type": "code",
   "execution_count": 16,
   "metadata": {
    "ExecuteTime": {
     "end_time": "2021-02-15T02:42:40.017346Z",
     "start_time": "2021-02-15T02:42:40.004493Z"
    }
   },
   "outputs": [],
   "source": [
    "def FEATURE_IMPORTANCE(X,y,x_test,cat):\n",
    "    if cat == 'Logit':\n",
    "        log= LogisticRegression()\n",
    "        log.fit(X,y)\n",
    "        y_pred=log.predict(x_test)\n",
    "        y_pred_prob = log.predict_proba(x_test)\n",
    "        importances_rf=pd.DataFrame(log.coef_)\n",
    "        importances_rf.columns = X.columns       \n",
    "    else:\n",
    "        clf = LGBMClassifier( n_estimators= 500,\n",
    "                              num_leaves  = 200, objective=None, random_state=123, reg_alpha=0.0,\n",
    "                              subsample_for_bin=200000, subsample_freq=0)\n",
    "\n",
    "        clf.fit(X, y)\n",
    "        result_rfc = permutation_importance(clf, X,y,n_repeats=5, n_jobs=20)\n",
    "        sorted_idx = result_rfc.importances_mean.argsort()\n",
    "        importances_rf = pd.DataFrame(result_rfc.importances_mean[sorted_idx], index=X.columns[sorted_idx]).sort_values(0, ascending=False).iloc[:5]    \n",
    "        pi_cols   = importances_rf.reset_index()['index'].values\n",
    "        pi_weight = importances_rf.loc[:,0].values.tolist()\n",
    "        importances_rf = pd.DataFrame({str(pi_cols[0]) : float(pi_weight[0]),\n",
    "                          str(pi_cols[1]) : float(pi_weight[1]),\n",
    "                          str(pi_cols[2]) : float(pi_weight[2]),\n",
    "                          str(pi_cols[3]) : float(pi_weight[3]),},index=[0])\n",
    "    return importances_rf"
   ]
  },
  {
   "cell_type": "markdown",
   "metadata": {},
   "source": [
    "# Logistic Regression"
   ]
  },
  {
   "cell_type": "code",
   "execution_count": 17,
   "metadata": {
    "ExecuteTime": {
     "end_time": "2021-02-15T02:43:08.396593Z",
     "start_time": "2021-02-15T02:42:44.510346Z"
    }
   },
   "outputs": [
    {
     "data": {
      "text/html": [
       "<div>\n",
       "<style scoped>\n",
       "    .dataframe tbody tr th:only-of-type {\n",
       "        vertical-align: middle;\n",
       "    }\n",
       "\n",
       "    .dataframe tbody tr th {\n",
       "        vertical-align: top;\n",
       "    }\n",
       "\n",
       "    .dataframe thead th {\n",
       "        text-align: right;\n",
       "    }\n",
       "</style>\n",
       "<table border=\"1\" class=\"dataframe\">\n",
       "  <thead>\n",
       "    <tr style=\"text-align: right;\">\n",
       "      <th></th>\n",
       "      <th>ESTIMATOR</th>\n",
       "      <th>RATIO_SKU_SCALED</th>\n",
       "      <th>DCODE_MAIN_PURCHS_SCORE_F_SCALED</th>\n",
       "      <th>TOTAL_EVENT_TYP_PRE_UNITY_SCALED</th>\n",
       "      <th>HGHPC_PREFER_SCALED</th>\n",
       "    </tr>\n",
       "  </thead>\n",
       "  <tbody>\n",
       "    <tr>\n",
       "      <th>0</th>\n",
       "      <td>Logistics</td>\n",
       "      <td>0.703792</td>\n",
       "      <td>0.124633</td>\n",
       "      <td>0.022103</td>\n",
       "      <td>0.149472</td>\n",
       "    </tr>\n",
       "  </tbody>\n",
       "</table>\n",
       "</div>"
      ],
      "text/plain": [
       "   ESTIMATOR  RATIO_SKU_SCALED  DCODE_MAIN_PURCHS_SCORE_F_SCALED  \\\n",
       "0  Logistics          0.703792                          0.124633   \n",
       "\n",
       "   TOTAL_EVENT_TYP_PRE_UNITY_SCALED  HGHPC_PREFER_SCALED  \n",
       "0                          0.022103             0.149472  "
      ]
     },
     "execution_count": 17,
     "metadata": {},
     "output_type": "execute_result"
    }
   ],
   "source": [
    "KUKSAN_PRICE_COEFFICIENT = FEATURE_IMPORTANCE(X, y,x_test,'Logit')\n",
    "LOGISTIC_weight          = feature_weight_calculate(KUKSAN_PRICE_COEFFICIENT,'Logistics')\n",
    "LOGISTIC_weight"
   ]
  },
  {
   "cell_type": "markdown",
   "metadata": {
    "ExecuteTime": {
     "end_time": "2021-02-09T02:36:56.188146Z",
     "start_time": "2021-02-09T02:36:56.172896Z"
    }
   },
   "source": [
    "# Permutation Importance"
   ]
  },
  {
   "cell_type": "code",
   "execution_count": 18,
   "metadata": {
    "ExecuteTime": {
     "end_time": "2021-02-15T02:48:29.179353Z",
     "start_time": "2021-02-15T02:43:08.457523Z"
    }
   },
   "outputs": [
    {
     "data": {
      "text/html": [
       "<div>\n",
       "<style scoped>\n",
       "    .dataframe tbody tr th:only-of-type {\n",
       "        vertical-align: middle;\n",
       "    }\n",
       "\n",
       "    .dataframe tbody tr th {\n",
       "        vertical-align: top;\n",
       "    }\n",
       "\n",
       "    .dataframe thead th {\n",
       "        text-align: right;\n",
       "    }\n",
       "</style>\n",
       "<table border=\"1\" class=\"dataframe\">\n",
       "  <thead>\n",
       "    <tr style=\"text-align: right;\">\n",
       "      <th></th>\n",
       "      <th>ESTIMATOR</th>\n",
       "      <th>RATIO_SKU_SCALED</th>\n",
       "      <th>DCODE_MAIN_PURCHS_SCORE_F_SCALED</th>\n",
       "      <th>TOTAL_EVENT_TYP_PRE_UNITY_SCALED</th>\n",
       "      <th>HGHPC_PREFER_SCALED</th>\n",
       "    </tr>\n",
       "  </thead>\n",
       "  <tbody>\n",
       "    <tr>\n",
       "      <th>0</th>\n",
       "      <td>LGBM</td>\n",
       "      <td>0.353452</td>\n",
       "      <td>0.25316</td>\n",
       "      <td>0.194006</td>\n",
       "      <td>0.199381</td>\n",
       "    </tr>\n",
       "  </tbody>\n",
       "</table>\n",
       "</div>"
      ],
      "text/plain": [
       "  ESTIMATOR  RATIO_SKU_SCALED  DCODE_MAIN_PURCHS_SCORE_F_SCALED  \\\n",
       "0      LGBM          0.353452                           0.25316   \n",
       "\n",
       "   TOTAL_EVENT_TYP_PRE_UNITY_SCALED  HGHPC_PREFER_SCALED  \n",
       "0                          0.194006             0.199381  "
      ]
     },
     "execution_count": 18,
     "metadata": {},
     "output_type": "execute_result"
    }
   ],
   "source": [
    "KUKSAN_PRICE_IMPORTANCE=FEATURE_IMPORTANCE(X, y,x_test,'LGBM')\n",
    "Boosting_weight=feature_weight_calculate(KUKSAN_PRICE_IMPORTANCE,'LGBM')\n",
    "Boosting_weight"
   ]
  }
 ],
 "metadata": {
  "hide_input": false,
  "kernelspec": {
   "display_name": "Python 3",
   "language": "python",
   "name": "python3"
  },
  "language_info": {
   "codemirror_mode": {
    "name": "ipython",
    "version": 3
   },
   "file_extension": ".py",
   "mimetype": "text/x-python",
   "name": "python",
   "nbconvert_exporter": "python",
   "pygments_lexer": "ipython3",
   "version": "3.7.3"
  },
  "toc": {
   "base_numbering": 1,
   "nav_menu": {},
   "number_sections": true,
   "sideBar": true,
   "skip_h1_title": false,
   "title_cell": "Table of Contents",
   "title_sidebar": "Contents",
   "toc_cell": false,
   "toc_position": {},
   "toc_section_display": true,
   "toc_window_display": false
  },
  "varInspector": {
   "cols": {
    "lenName": 16,
    "lenType": 16,
    "lenVar": "40"
   },
   "kernels_config": {
    "python": {
     "delete_cmd_postfix": "",
     "delete_cmd_prefix": "del ",
     "library": "var_list.py",
     "varRefreshCmd": "print(var_dic_list())"
    },
    "r": {
     "delete_cmd_postfix": ") ",
     "delete_cmd_prefix": "rm(",
     "library": "var_list.r",
     "varRefreshCmd": "cat(var_dic_list()) "
    }
   },
   "types_to_exclude": [
    "module",
    "function",
    "builtin_function_or_method",
    "instance",
    "_Feature"
   ],
   "window_display": false
  }
 },
 "nbformat": 4,
 "nbformat_minor": 2
}
