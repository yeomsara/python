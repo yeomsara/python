{
 "cells": [
  {
   "cell_type": "markdown",
   "metadata": {},
   "source": [
    "# DB연결하기"
   ]
  },
  {
   "cell_type": "code",
   "execution_count": 3,
   "metadata": {
    "ExecuteTime": {
     "end_time": "2021-02-09T00:46:34.544349Z",
     "start_time": "2021-02-09T00:46:33.851358Z"
    },
    "code_folding": []
   },
   "outputs": [
    {
     "name": "stdout",
     "output_type": "stream",
     "text": [
      "================================================\n",
      "============= Argument setting =================\n",
      "DNA_YM : 202009\n",
      "BF_M : 3\n",
      "================================================\n"
     ]
    }
   ],
   "source": [
    "import configparser\n",
    "global HOST,PORT,DB_ID,DB_PW,MODEL_DIR,MODEL_NAME\n",
    "conf_dir = '/home/cdsadmin/python_src/EY/Emart/conf/config.ini'\n",
    "cfg = configparser.ConfigParser(interpolation=configparser.ExtendedInterpolation())\n",
    "cfg.read(conf_dir)\n",
    "\n",
    "HOST      = cfg['dbconnect']['host']\n",
    "PORT      = int(cfg['dbconnect']['port'])\n",
    "DB_ID     = cfg['dbconnect']['ID']\n",
    "DB_PW     = cfg['dbconnect']['PW']\n",
    "MODEL_DIR = cfg['event']['MODEL_DIR']\n",
    "\n",
    "###==========================================================================###\n",
    "import numpy as np\n",
    "import pandas as pd \n",
    "import time,os,psutil\n",
    "from hdbcli import dbapi ## hana DB client \n",
    "from IPython.core.display import display, HTML\n",
    "import multiprocessing\n",
    "import matplotlib.pyplot as plt\n",
    "from sklearn.preprocessing import StandardScaler,MinMaxScaler\n",
    "from collections import Counter\n",
    "import seaborn as sns\n",
    "from sklearn.ensemble   import RandomForestClassifier,GradientBoostingClassifier\n",
    "from xgboost            import XGBClassifier\n",
    "from lightgbm           import LGBMClassifier\n",
    "from sklearn.inspection import permutation_importance\n",
    "from sklearn.model_selection import train_test_split\n",
    "from sklearn.linear_model    import LogisticRegression\n",
    "from sklearn.metrics         import confusion_matrix,precision_score,recall_score,\\\n",
    "                                      f1_score,accuracy_score,roc_auc_score,roc_curve,auc,\\\n",
    "                                      classification_report,precision_recall_curve\n",
    "\n",
    "def DB_Connection() :\n",
    "    conn=dbapi.connect(HOST,PORT,DB_ID,DB_PW)\n",
    "    return conn\n",
    "\n",
    "def select_query(sql) :\n",
    "    conn = DB_Connection()\n",
    "    cnt = pd.read_sql(sql, conn)\n",
    "    conn.close()\n",
    "    \n",
    "def load_model(filename):\n",
    "    model_dir  = MODEL_DIR+filename\n",
    "    load_model = joblib.load(model_dir)\n",
    "    return load_model\n",
    "\n",
    "def query_SQL( query ): \n",
    "    ## DB Connection\n",
    "    conn=DB_Connection() ## DB 연결 정보\n",
    "    ## Get a DataFrame \n",
    "    start_time = time.time()\n",
    "    query_result = pd.read_sql(query, conn)\n",
    "    ## Close Connection\n",
    "    print( '---- %s seconds ------'%(time.time()-start_time))\n",
    "    conn.close()\n",
    "    \n",
    "    return query_result\n",
    "\n",
    "# 예측하고자하는 년월을 입력하면 앞전 3개월치의 데이터를 자동으로 로드해옴\n",
    "#----------------------------------------------------------\n",
    "# Configuration variable \n",
    "#----------------------------------------------------------\n",
    "DNA_YM = '202009'\n",
    "BF_M   = 3\n",
    "KUKMIN_MD_TABLE = 'CDS_AMT.EMART_PRODUCT_LIST_U_CSV'\n",
    "\n",
    "print(\"================================================\")\n",
    "print(\"============= Argument setting =================\")\n",
    "print(\"DNA_YM : \",DNA_YM,\n",
    "      \"\\nBF_M : \",BF_M,sep=\"\")\n",
    "print(\"================================================\")\n",
    "\n",
    "DATE= f'''TO_CHAR(R.BSN_DT,'YYYYMM') BETWEEN ADD_MONTHS (TO_CHAR ('{DNA_YM}', 'YYYYMM'),-{BF_M}) AND ADD_MONTHS (TO_CHAR ('{DNA_YM}', 'YYYYMM'), -1)'''\n",
    "\n",
    "YM_WCNT=DNA_YM+'01'\n",
    "EVENT_MONTH= DNA_YM"
   ]
  },
  {
   "cell_type": "markdown",
   "metadata": {},
   "source": [
    "# 데이터 추출"
   ]
  },
  {
   "cell_type": "code",
   "execution_count": 4,
   "metadata": {
    "ExecuteTime": {
     "end_time": "2021-02-09T00:46:36.551235Z",
     "start_time": "2021-02-09T00:46:36.541590Z"
    },
    "code_folding": [],
    "scrolled": true
   },
   "outputs": [
    {
     "name": "stdout",
     "output_type": "stream",
     "text": [
      "\n",
      "-- SKU Basket 비중\n",
      "WITH BASE_RCIP_CUST_ID AS ( SELECT A.CUST_ID,A.BSN_DT,A.PRDT_CD,A.AFLCO_CD ,A.BIZTP_CD\n",
      "                            FROM CDS_DW.TB_DW_RCIPT_DETAIL A \n",
      "                            WHERE   A.AFLCO_CD ='001'\n",
      "                                AND A.BIZTP_CD ='10'\n",
      "                                AND A.RL_SALE_TRGT_YN = 'Y'\n",
      "                                AND TO_CHAR(A.BSN_DT,'YYYYMM') BETWEEN ADD_MONTHS (TO_CHAR ('202009', 'YYYYMM'),-3) AND ADD_MONTHS (TO_CHAR ('202009', 'YYYYMM'), 0) --고객산출 기간변경\n",
      "                                AND A.CUST_ID IS NOT NULL)\n",
      "   ,EMART_PRODUCT_LIST AS (  SELECT *\n",
      "                             FROM  CDS_AMT.EMART_PRODUCT_LIST_U_CSV\n",
      "                             WHERE YM='202009')\n",
      "SELECT  A.CUST_ID \t\t\t\t\t\t\t\t\t\t\t\t\t\t\t\t\t\t\t\t\t   \t       AS CUST_ID\n",
      "      , (CASE WHEN SUM(PURCHA_SKU) IS NULL THEN 0 ELSE SUM(PURCHA_SKU) END)/SUM(TOT_SKU_VISIT)         \t       AS RATIO_SKU\n",
      "      , (CASE WHEN MAX(C.AVG_MAIN_PURCHS_SCORE) IS NULL THEN 0 ELSE MAX(C.AVG_MAIN_PURCHS_SCORE) END)          AS DCODE_MAIN_PURCHS_SCORE_F\n",
      "      , (CASE WHEN MAX(D.TOTAL_EVENT_TYP_PRE_UNITY) IS NULL THEN 0 ELSE MAX(D.TOTAL_EVENT_TYP_PRE_UNITY) END)  AS TOTAL_EVENT_TYP_PRE_UNITY\n",
      "      , (CASE WHEN MAX(E.LOWPC_PREFER) IS NULL THEN 0 ELSE MAX(E.LOWPC_PREFER) END)     \t\t\t           AS LOWPC_PREFER\n",
      "      , CAST(MAX(CASE WHEN F.K_PRDT_CD > 0 THEN 1 ELSE 0 END ) AS DECIMAL)                                     AS PURCHA_MONTH \n",
      "-- A: 최근 3개월 동안 구매이력이 있는 고객의 방문횟수\n",
      "FROM (\n",
      "        SELECT CUST_ID,PRDT_CD,COUNT(DISTINCT BSN_DT) AS TOT_SKU_VISIT\n",
      "        FROM BASE_RCIP_CUST_ID\n",
      "        WHERE TO_CHAR(BSN_DT,'YYYYMM') BETWEEN ADD_MONTHS (TO_CHAR ('202009', 'YYYYMM'),-3) AND ADD_MONTHS (TO_CHAR ('202009', 'YYYYMM'), -1)\n",
      "        GROUP BY CUST_ID,PRDT_CD\n",
      "      ) A \n",
      "-- B: 고객별 국민가격 상품 구매횟수\n",
      "LEFT JOIN (SELECT A.CUST_ID,A.PRDT_CD,COUNT(DISTINCT A.BSN_DT) AS PURCHA_SKU\n",
      "            FROM BASE_RCIP_CUST_ID A\n",
      "            JOIN EMART_PRODUCT_LIST B ON A.PRDT_CD = B.PRDT_CD\n",
      "            WHERE B.PRDT_CD IS NOT NULL \n",
      "            AND TO_CHAR(A.BSN_DT,'YYYYMM') BETWEEN ADD_MONTHS (TO_CHAR ('202009', 'YYYYMM'),-3) AND ADD_MONTHS (TO_CHAR ('202009', 'YYYYMM'), -1)\n",
      "            GROUP BY A.CUST_ID,A.PRDT_CD \n",
      "          ) B ON A.CUST_ID = B.CUST_ID AND A.PRDT_CD = B.PRDT_CD \n",
      "-- C : 주 구매 스코어\n",
      "LEFT JOIN (\n",
      "            SELECT CUST_ID,AVG(MAIN_PURCHS_SCORE) AS AVG_MAIN_PURCHS_SCORE\n",
      "            FROM TB_AMT_CUST_PRDT_DNA_DATA \n",
      "            WHERE YM_WCNT='20200901'\n",
      "            AND AFLCO_CD ='001'\n",
      "            AND BIZTP_CD ='10' \n",
      "            AND PRDT_DCODE_CD IN (SELECT DISTINCT PRDT_DCODE_CD FROM EMART_PRODUCT_LIST)\n",
      "            GROUP BY CUST_ID\n",
      "          ) C ON A.CUST_ID = C.CUST_ID\n",
      "-- D : 행사 이벤트 선호도 \n",
      "LEFT JOIN ( \n",
      "            SELECT CUST_ID,CASE WHEN EVENT_TYP_PRE_UNITY IS NULL THEN 0 ELSE EVENT_TYP_PRE_UNITY END AS TOTAL_EVENT_TYP_PRE_UNITY\n",
      "            FROM TB_AMT_BIZTP_CUST_DNA_DATA\n",
      "            WHERE YM_WCNT ='20200901' --월 변경\n",
      "            AND AFLCO_CD ='001'\n",
      "            AND BIZTP_CD ='10'\n",
      "            ORDER BY EVENT_TYP_PRE_UNITY DESC\n",
      "           ) AS D ON A.CUST_ID = D.CUST_ID\n",
      "-- E : 저가 선호도(1-고가선호도)\n",
      "LEFT JOIN (\n",
      "            SELECT CUST_ID,CASE WHEN (1-HGHPC_PREFER) IS NULL THEN 0 ELSE (1-HGHPC_PREFER) END AS LOWPC_PREFER\n",
      "            FROM TB_AMT_AFLCO_CUST_DNA_DATA\n",
      "            WHERE YM_WCNT ='20200901' \n",
      "            AND AFLCO_CD ='001'\n",
      "          ) AS E ON A.CUST_ID = E.CUST_ID\n",
      "-- ★  F : Target (학습에만 사용되는 Tagging값 운영에는 필요X)\n",
      "LEFT JOIN (SELECT A.CUST_ID,COUNT(B.PRDT_CD) AS K_PRDT_CD\n",
      "            FROM BASE_RCIP_CUST_ID A\n",
      "            LEFT JOIN EMART_PRODUCT_LIST B ON A.PRDT_CD = B.PRDT_CD\n",
      "            WHERE B.PRDT_CD IS NOT NULL \n",
      "            AND TO_CHAR(A.BSN_DT,'YYYYMM') = '202009'\n",
      "            GROUP BY A.CUST_ID\n",
      "          ) F ON A.CUST_ID = F.CUST_ID \n",
      "GROUP BY A.CUST_ID\n",
      "    \n"
     ]
    }
   ],
   "source": [
    "query1=f'''\n",
    "-- SKU Basket 비중\n",
    "WITH BASE_RCIP_CUST_ID AS ( SELECT A.CUST_ID,A.BSN_DT,A.PRDT_CD,A.AFLCO_CD ,A.BIZTP_CD\n",
    "                            FROM CDS_DW.TB_DW_RCIPT_DETAIL A \n",
    "                            WHERE   A.AFLCO_CD ='001'\n",
    "                                AND A.BIZTP_CD ='10'\n",
    "                                AND A.RL_SALE_TRGT_YN = 'Y'\n",
    "                                AND TO_CHAR(A.BSN_DT,'YYYYMM') BETWEEN ADD_MONTHS (TO_CHAR ('{DNA_YM}', 'YYYYMM'),-3) AND ADD_MONTHS (TO_CHAR ('{DNA_YM}', 'YYYYMM'), 0) --고객산출 기간변경\n",
    "                                AND A.CUST_ID IS NOT NULL)\n",
    "   ,EMART_PRODUCT_LIST AS (  SELECT *\n",
    "                             FROM  {KUKMIN_MD_TABLE}\n",
    "                             WHERE YM='{DNA_YM}')\n",
    "SELECT  A.CUST_ID \t\t\t\t\t\t\t\t\t\t\t\t\t\t\t\t\t\t\t\t\t   \t       AS CUST_ID\n",
    "      , (CASE WHEN SUM(PURCHA_SKU) IS NULL THEN 0 ELSE SUM(PURCHA_SKU) END)/SUM(TOT_SKU_VISIT)         \t       AS RATIO_SKU\n",
    "      , (CASE WHEN MAX(C.AVG_MAIN_PURCHS_SCORE) IS NULL THEN 0 ELSE MAX(C.AVG_MAIN_PURCHS_SCORE) END)          AS DCODE_MAIN_PURCHS_SCORE_F\n",
    "      , (CASE WHEN MAX(D.TOTAL_EVENT_TYP_PRE_UNITY) IS NULL THEN 0 ELSE MAX(D.TOTAL_EVENT_TYP_PRE_UNITY) END)  AS TOTAL_EVENT_TYP_PRE_UNITY\n",
    "      , (CASE WHEN MAX(E.LOWPC_PREFER) IS NULL THEN 0 ELSE MAX(E.LOWPC_PREFER) END)     \t\t\t           AS LOWPC_PREFER\n",
    "      , CAST(MAX(CASE WHEN F.K_PRDT_CD > 0 THEN 1 ELSE 0 END ) AS DECIMAL)                                     AS PURCHA_MONTH \n",
    "-- A: 최근 3개월 동안 구매이력이 있는 고객의 방문횟수\n",
    "FROM (\n",
    "        SELECT CUST_ID,PRDT_CD,COUNT(DISTINCT BSN_DT) AS TOT_SKU_VISIT\n",
    "        FROM BASE_RCIP_CUST_ID\n",
    "        WHERE TO_CHAR(BSN_DT,'YYYYMM') BETWEEN ADD_MONTHS (TO_CHAR ('{DNA_YM}', 'YYYYMM'),-3) AND ADD_MONTHS (TO_CHAR ('{DNA_YM}', 'YYYYMM'), -1)\n",
    "        GROUP BY CUST_ID,PRDT_CD\n",
    "      ) A \n",
    "-- B: 고객별 국민가격 상품 구매횟수\n",
    "LEFT JOIN (SELECT A.CUST_ID,A.PRDT_CD,COUNT(DISTINCT A.BSN_DT) AS PURCHA_SKU\n",
    "            FROM BASE_RCIP_CUST_ID A\n",
    "            JOIN EMART_PRODUCT_LIST B ON A.PRDT_CD = B.PRDT_CD\n",
    "            WHERE B.PRDT_CD IS NOT NULL \n",
    "            AND TO_CHAR(A.BSN_DT,'YYYYMM') BETWEEN ADD_MONTHS (TO_CHAR ('{DNA_YM}', 'YYYYMM'),-3) AND ADD_MONTHS (TO_CHAR ('{DNA_YM}', 'YYYYMM'), -1)\n",
    "            GROUP BY A.CUST_ID,A.PRDT_CD \n",
    "          ) B ON A.CUST_ID = B.CUST_ID AND A.PRDT_CD = B.PRDT_CD \n",
    "-- C : 주 구매 스코어\n",
    "LEFT JOIN (\n",
    "            SELECT CUST_ID,AVG(MAIN_PURCHS_SCORE) AS AVG_MAIN_PURCHS_SCORE\n",
    "            FROM TB_AMT_CUST_PRDT_DNA_DATA \n",
    "            WHERE YM_WCNT='{YM_WCNT}'\n",
    "            AND AFLCO_CD ='001'\n",
    "            AND BIZTP_CD ='10' \n",
    "            AND PRDT_DCODE_CD IN (SELECT DISTINCT PRDT_DCODE_CD FROM EMART_PRODUCT_LIST)\n",
    "            GROUP BY CUST_ID\n",
    "          ) C ON A.CUST_ID = C.CUST_ID\n",
    "-- D : 행사 이벤트 선호도 \n",
    "LEFT JOIN ( \n",
    "            SELECT CUST_ID,CASE WHEN EVENT_TYP_PRE_UNITY IS NULL THEN 0 ELSE EVENT_TYP_PRE_UNITY END AS TOTAL_EVENT_TYP_PRE_UNITY\n",
    "            FROM TB_AMT_BIZTP_CUST_DNA_DATA\n",
    "            WHERE YM_WCNT ='{YM_WCNT}' --월 변경\n",
    "            AND AFLCO_CD ='001'\n",
    "            AND BIZTP_CD ='10'\n",
    "            ORDER BY EVENT_TYP_PRE_UNITY DESC\n",
    "           ) AS D ON A.CUST_ID = D.CUST_ID\n",
    "-- E : 저가 선호도(1-고가선호도)\n",
    "LEFT JOIN (\n",
    "            SELECT CUST_ID,CASE WHEN (1-HGHPC_PREFER) IS NULL THEN 0 ELSE (1-HGHPC_PREFER) END AS LOWPC_PREFER\n",
    "            FROM TB_AMT_AFLCO_CUST_DNA_DATA\n",
    "            WHERE YM_WCNT ='{YM_WCNT}' \n",
    "            AND AFLCO_CD ='001'\n",
    "          ) AS E ON A.CUST_ID = E.CUST_ID\n",
    "-- ★  F : Target (학습에만 사용되는 Tagging값 운영에는 필요X)\n",
    "LEFT JOIN (SELECT A.CUST_ID,COUNT(B.PRDT_CD) AS K_PRDT_CD\n",
    "            FROM BASE_RCIP_CUST_ID A\n",
    "            LEFT JOIN EMART_PRODUCT_LIST B ON A.PRDT_CD = B.PRDT_CD\n",
    "            WHERE B.PRDT_CD IS NOT NULL \n",
    "            AND TO_CHAR(A.BSN_DT,'YYYYMM') = '{DNA_YM}'\n",
    "            GROUP BY A.CUST_ID\n",
    "          ) F ON A.CUST_ID = F.CUST_ID \n",
    "GROUP BY A.CUST_ID\n",
    "    '''\n",
    "print(query1)"
   ]
  },
  {
   "cell_type": "code",
   "execution_count": 5,
   "metadata": {
    "ExecuteTime": {
     "end_time": "2021-02-09T00:52:29.598482Z",
     "start_time": "2021-02-09T00:46:41.556168Z"
    },
    "scrolled": false
   },
   "outputs": [
    {
     "name": "stdout",
     "output_type": "stream",
     "text": [
      "---- 347.98173427581787 seconds ------\n"
     ]
    }
   ],
   "source": [
    "KUKMIN_PRICE_FEATURE = query_SQL(query1)"
   ]
  },
  {
   "cell_type": "code",
   "execution_count": 7,
   "metadata": {
    "ExecuteTime": {
     "end_time": "2021-02-09T01:07:05.434092Z",
     "start_time": "2021-02-09T01:07:05.348644Z"
    }
   },
   "outputs": [
    {
     "name": "stdout",
     "output_type": "stream",
     "text": [
      "<class 'pandas.core.frame.DataFrame'>\n",
      "RangeIndex: 6831894 entries, 0 to 6831893\n",
      "Data columns (total 6 columns):\n",
      " #   Column                     Dtype  \n",
      "---  ------                     -----  \n",
      " 0   CUST_ID                    object \n",
      " 1   RATIO_SKU                  float64\n",
      " 2   DCODE_MAIN_PURCHS_SCORE_F  float64\n",
      " 3   TOTAL_EVENT_TYP_PRE_UNITY  float64\n",
      " 4   LOWPC_PREFER               float64\n",
      " 5   PURCHA_MONTH               int64  \n",
      "dtypes: float64(4), int64(1), object(1)\n",
      "memory usage: 312.7+ MB\n"
     ]
    }
   ],
   "source": [
    "feature_name  = ['CUST_ID','RATIO_SKU', 'DCODE_MAIN_PURCHS_SCORE_F', 'TOTAL_EVENT_TYP_PRE_UNITY', 'LOWPC_PREFER','PURCHA_MONTH']\n",
    "KUKMIN_PRICE_FEATURE.columns = feature_name\n",
    "KUKMIN_PRICE_FEATURE['PURCHA_MONTH'] = KUKMIN_PRICE_FEATURE['PURCHA_MONTH'].astype(int)\n",
    "KUKMIN_PRICE_FEATURE.info()"
   ]
  },
  {
   "cell_type": "markdown",
   "metadata": {
    "ExecuteTime": {
     "end_time": "2021-02-03T11:30:50.092252Z",
     "start_time": "2021-02-03T11:30:50.089650Z"
    }
   },
   "source": [
    "## Split train / test set"
   ]
  },
  {
   "cell_type": "code",
   "execution_count": 8,
   "metadata": {
    "ExecuteTime": {
     "end_time": "2021-02-09T01:07:16.191051Z",
     "start_time": "2021-02-09T01:07:06.834992Z"
    }
   },
   "outputs": [
    {
     "name": "stdout",
     "output_type": "stream",
     "text": [
      "x_train length : 5465515\n",
      "y_train length : 5465515\n",
      "x_test  length : 1366379\n",
      "y_test  length : 1366379\n",
      "all   0 class   : 6482085 | all   1 class : 349809 \n",
      "train 0 class   : 5185668 | train 1 class : 279847 \n",
      "test  0 class   : 1296417 | test  1 class : 69962 \n"
     ]
    }
   ],
   "source": [
    "KUKMIN_PRICE_FEATURE_processed_num =KUKMIN_PRICE_FEATURE.apply(pd.to_numeric, errors = 'coerce').fillna(0)\n",
    "KUKMIN_x = KUKMIN_PRICE_FEATURE[feature_name[1:-1]]\n",
    "KUKMIN_y = KUKMIN_PRICE_FEATURE['PURCHA_MONTH']\n",
    "\n",
    "x_train, x_test, y_train, y_test = train_test_split(KUKMIN_x, KUKMIN_y,test_size=0.2,random_state=123,stratify=KUKMIN_y)\n",
    "\n",
    "print('x_train length : %s'%len(x_train))\n",
    "print('y_train length : %s'%len(y_train))\n",
    "print('x_test  length : %s'%len(x_test))\n",
    "print('y_test  length : %s'%len(y_test))\n",
    "print('all   0 class   : %s | all   1 class : %s '%(Counter(KUKMIN_y)[0],Counter(KUKMIN_y)[1]))\n",
    "print('train 0 class   : %s | train 1 class : %s '%(Counter(y_train)[0] ,Counter(y_train)[1]))\n",
    "print('test  0 class   : %s | test  1 class : %s '%(Counter(y_test)[0]  ,Counter(y_test)[1]))"
   ]
  },
  {
   "cell_type": "markdown",
   "metadata": {},
   "source": [
    "# weight(Logistic Regression/RandomForest) 산출"
   ]
  },
  {
   "cell_type": "code",
   "execution_count": 103,
   "metadata": {
    "ExecuteTime": {
     "end_time": "2021-02-09T02:32:16.601235Z",
     "start_time": "2021-02-09T02:32:16.592469Z"
    },
    "scrolled": true
   },
   "outputs": [],
   "source": [
    "def feature_weight_calculate(df,cat):\n",
    "    data = df.reindex(columns=feature_name[1:-1])\n",
    "    df_cols = data.columns\n",
    "    data['ESTIMATOR'] = cat\n",
    "    denominator  = (data['RATIO_SKU']+data['DCODE_MAIN_PURCHS_SCORE_F']+data['TOTAL_EVENT_TYP_PRE_UNITY']+data['LOWPC_PREFER'])\n",
    "    scale_cols = ['ESTIMATOR']\n",
    "    for i in range(0,len(df_cols)):\n",
    "        cols = str(df_cols[i])+\"_SCALED\"\n",
    "        scale_cols.append(cols)\n",
    "        data[cols] = data[df_cols[i]]/denominator\n",
    "    return data[scale_cols]"
   ]
  },
  {
   "cell_type": "markdown",
   "metadata": {
    "ExecuteTime": {
     "end_time": "2021-01-18T06:54:39.389955Z",
     "start_time": "2021-01-18T06:54:39.387960Z"
    }
   },
   "source": [
    "# Feature importance Weight "
   ]
  },
  {
   "cell_type": "markdown",
   "metadata": {},
   "source": [
    "### (Ramdom Forest -> LGBM 으로 변경) 속도 및 성능차이"
   ]
  },
  {
   "cell_type": "code",
   "execution_count": 117,
   "metadata": {
    "ExecuteTime": {
     "end_time": "2021-02-09T04:31:38.274951Z",
     "start_time": "2021-02-09T04:31:38.260981Z"
    }
   },
   "outputs": [],
   "source": [
    "def FEATURE_IMPORTANCE_KUKMIN(KUKMIN_x,KUKMIN_y,x_test,cat):\n",
    "    if cat == 'Logit':\n",
    "        log= LogisticRegression()\n",
    "        log.fit(KUKMIN_x,KUKMIN_y)\n",
    "        y_pred=log.predict(x_test)\n",
    "        y_pred_prob = log.predict_proba(x_test)\n",
    "        importances_rf=pd.DataFrame(log.coef_)\n",
    "        importances_rf.columns = KUKMIN_x.columns       \n",
    "    else:\n",
    "        clf = LGBMClassifier( n_estimators= 500,\n",
    "                              num_leaves  = 200, objective=None, random_state=123, reg_alpha=0.0,\n",
    "                              subsample_for_bin=200000, subsample_freq=0)\n",
    "\n",
    "        clf.fit(KUKMIN_x, KUKMIN_y)\n",
    "        result_rfc = permutation_importance(clf, KUKMIN_x,KUKMIN_y,n_repeats=5, n_jobs=20)\n",
    "        sorted_idx = result_rfc.importances_mean.argsort()\n",
    "        importances_rf = pd.DataFrame(result_rfc.importances_mean[sorted_idx], index=KUKMIN_x.columns[sorted_idx]).sort_values(0, ascending=False).iloc[:5]    \n",
    "        pi_cols = importances_rf.reset_index()['index'].values\n",
    "        pi_weight = importances_rf.loc[:,0].values.tolist()\n",
    "        importances_rf = pd.DataFrame({str(pi_cols[0]) : float(pi_weight[0]),\n",
    "                          str(pi_cols[1]) : float(pi_weight[1]),\n",
    "                          str(pi_cols[2]) : float(pi_weight[2]),\n",
    "                          str(pi_cols[3]) : float(pi_weight[3]),},index=[0])\n",
    "    return importances_rf"
   ]
  },
  {
   "cell_type": "markdown",
   "metadata": {},
   "source": [
    "# Logistic Regression"
   ]
  },
  {
   "cell_type": "code",
   "execution_count": 118,
   "metadata": {
    "ExecuteTime": {
     "end_time": "2021-02-09T04:32:05.580027Z",
     "start_time": "2021-02-09T04:31:40.918025Z"
    }
   },
   "outputs": [],
   "source": [
    "KUKMIN_PRICE_COEFFICIENT = FEATURE_IMPORTANCE_KUKMIN(KUKMIN_x, KUKMIN_y,x_test,'Logit')\n",
    "LOGISTIC_weight          = feature_weight_calculate(KUKMIN_PRICE_COEFFICIENT,'Logistics')\n",
    "LOGISTIC_weight"
   ]
  },
  {
   "cell_type": "markdown",
   "metadata": {
    "ExecuteTime": {
     "end_time": "2021-02-09T02:36:56.188146Z",
     "start_time": "2021-02-09T02:36:56.172896Z"
    }
   },
   "source": [
    "# Permutation Importance"
   ]
  },
  {
   "cell_type": "code",
   "execution_count": 124,
   "metadata": {
    "ExecuteTime": {
     "end_time": "2021-02-09T04:38:11.265106Z",
     "start_time": "2021-02-09T04:38:11.260988Z"
    }
   },
   "outputs": [],
   "source": [
    "KUKMIN_PRICE_IMPORTANCE=FEATURE_IMPORTANCE_KUKMIN(KUKMIN_x, KUKMIN_y,x_test,'LGBM')\n",
    "Boosting_weight=feature_weight_calculate(KUKMIN_PRICE_IMPORTANCE,'LGBM')\n",
    "Boosting_weight"
   ]
  }
 ],
 "metadata": {
  "hide_input": false,
  "kernelspec": {
   "display_name": "Python 3",
   "language": "python",
   "name": "python3"
  },
  "language_info": {
   "codemirror_mode": {
    "name": "ipython",
    "version": 3
   },
   "file_extension": ".py",
   "mimetype": "text/x-python",
   "name": "python",
   "nbconvert_exporter": "python",
   "pygments_lexer": "ipython3",
   "version": "3.7.3"
  },
  "toc": {
   "base_numbering": 1,
   "nav_menu": {},
   "number_sections": true,
   "sideBar": true,
   "skip_h1_title": false,
   "title_cell": "Table of Contents",
   "title_sidebar": "Contents",
   "toc_cell": false,
   "toc_position": {},
   "toc_section_display": true,
   "toc_window_display": false
  },
  "varInspector": {
   "cols": {
    "lenName": 16,
    "lenType": 16,
    "lenVar": "40"
   },
   "kernels_config": {
    "python": {
     "delete_cmd_postfix": "",
     "delete_cmd_prefix": "del ",
     "library": "var_list.py",
     "varRefreshCmd": "print(var_dic_list())"
    },
    "r": {
     "delete_cmd_postfix": ") ",
     "delete_cmd_prefix": "rm(",
     "library": "var_list.r",
     "varRefreshCmd": "cat(var_dic_list()) "
    }
   },
   "types_to_exclude": [
    "module",
    "function",
    "builtin_function_or_method",
    "instance",
    "_Feature"
   ],
   "window_display": false
  }
 },
 "nbformat": 4,
 "nbformat_minor": 2
}
