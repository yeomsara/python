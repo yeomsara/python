{
 "cells": [
  {
   "cell_type": "code",
   "execution_count": 1,
   "metadata": {
    "ExecuteTime": {
     "end_time": "2021-03-10T08:15:23.391760Z",
     "start_time": "2021-03-10T08:15:23.304026Z"
    },
    "scrolled": false
   },
   "outputs": [
    {
     "name": "stdout",
     "output_type": "stream",
     "text": [
      " ■ [PID] : 223760\n",
      "\n",
      "b'36K\\t./python/__pycache__'\n",
      "b'160K\\t./python'\n",
      "b'432K\\t./00.end_version/.ipynb_checkpoints'\n",
      "b'888K\\t./00.end_version'\n",
      "b'1.5M\\t./.ipynb_checkpoints'\n",
      "b'1.8M\\t./Mollys/.ipynb_checkpoints'\n",
      "b'3.5M\\t./Mollys'\n",
      "b'4.0K\\t./temp/.ipynb_checkpoints'\n",
      "b'1.5G\\t./temp'\n",
      "b'4.0K\\t./conf/.ipynb_checkpoints'\n",
      "b'12K\\t./conf'\n",
      "b'52K\\t./__pycache__'\n",
      "b'4.0K\\t./log/.ipynb_checkpoints'\n",
      "b'8.0K\\t./log'\n",
      "b'4.0K\\t./model/.ipynb_checkpoints'\n",
      "b'4.0K\\t./model/mollys/.ipynb_checkpoints'\n",
      "b'8.0K\\t./model/mollys'\n",
      "b'2.5G\\t./model'\n",
      "b'4.0G\\t.'\n"
     ]
    }
   ],
   "source": [
    "import os\n",
    "# %%writefile linux_command.py\n",
    "def call_linux_command(cat,PID):    \n",
    "    import subprocess\n",
    "    import re\n",
    "    print(' ■ [PID] : %s\\n'%PID)\n",
    "    if cat == 'a':\n",
    "        command = \"ps -ef | grep cdsadmin\"\n",
    "    else :\n",
    "        command = \"du -h\"\n",
    "    res = subprocess.check_output(command,shell=True)\n",
    "    for line in res.splitlines():\n",
    "        print(line)\n",
    "call_linux_command(\"b\",os.getpid())"
   ]
  },
  {
   "cell_type": "code",
   "execution_count": 8,
   "metadata": {
    "ExecuteTime": {
     "end_time": "2020-12-03T07:27:14.018796Z",
     "start_time": "2020-12-03T07:27:13.963522Z"
    }
   },
   "outputs": [
    {
     "name": "stdout",
     "output_type": "stream",
     "text": [
      "[[5.1 3.5 1.4 0.2]\n",
      " [4.9 3.  1.4 0.2]\n",
      " [4.7 3.2 1.3 0.2]\n",
      " [4.6 3.1 1.5 0.2]\n",
      " [5.  3.6 1.4 0.2]\n",
      " [5.4 3.9 1.7 0.4]\n",
      " [4.6 3.4 1.4 0.3]\n",
      " [5.  3.4 1.5 0.2]\n",
      " [4.4 2.9 1.4 0.2]\n",
      " [4.9 3.1 1.5 0.1]\n",
      " [5.4 3.7 1.5 0.2]\n",
      " [4.8 3.4 1.6 0.2]\n",
      " [4.8 3.  1.4 0.1]\n",
      " [4.3 3.  1.1 0.1]\n",
      " [5.8 4.  1.2 0.2]\n",
      " [5.7 4.4 1.5 0.4]\n",
      " [5.4 3.9 1.3 0.4]\n",
      " [5.1 3.5 1.4 0.3]\n",
      " [5.7 3.8 1.7 0.3]\n",
      " [5.1 3.8 1.5 0.3]\n",
      " [5.4 3.4 1.7 0.2]\n",
      " [5.1 3.7 1.5 0.4]\n",
      " [4.6 3.6 1.  0.2]\n",
      " [5.1 3.3 1.7 0.5]\n",
      " [4.8 3.4 1.9 0.2]\n",
      " [5.  3.  1.6 0.2]\n",
      " [5.  3.4 1.6 0.4]\n",
      " [5.2 3.5 1.5 0.2]\n",
      " [5.2 3.4 1.4 0.2]\n",
      " [4.7 3.2 1.6 0.2]\n",
      " [4.8 3.1 1.6 0.2]\n",
      " [5.4 3.4 1.5 0.4]\n",
      " [5.2 4.1 1.5 0.1]\n",
      " [5.5 4.2 1.4 0.2]\n",
      " [4.9 3.1 1.5 0.2]\n",
      " [5.  3.2 1.2 0.2]\n",
      " [5.5 3.5 1.3 0.2]\n",
      " [4.9 3.6 1.4 0.1]\n",
      " [4.4 3.  1.3 0.2]\n",
      " [5.1 3.4 1.5 0.2]\n",
      " [5.  3.5 1.3 0.3]\n",
      " [4.5 2.3 1.3 0.3]\n",
      " [4.4 3.2 1.3 0.2]\n",
      " [5.  3.5 1.6 0.6]\n",
      " [5.1 3.8 1.9 0.4]\n",
      " [4.8 3.  1.4 0.3]\n",
      " [5.1 3.8 1.6 0.2]\n",
      " [4.6 3.2 1.4 0.2]\n",
      " [5.3 3.7 1.5 0.2]\n",
      " [5.  3.3 1.4 0.2]\n",
      " [7.  3.2 4.7 1.4]\n",
      " [6.4 3.2 4.5 1.5]\n",
      " [6.9 3.1 4.9 1.5]\n",
      " [5.5 2.3 4.  1.3]\n",
      " [6.5 2.8 4.6 1.5]\n",
      " [5.7 2.8 4.5 1.3]\n",
      " [6.3 3.3 4.7 1.6]\n",
      " [4.9 2.4 3.3 1. ]\n",
      " [6.6 2.9 4.6 1.3]\n",
      " [5.2 2.7 3.9 1.4]\n",
      " [5.  2.  3.5 1. ]\n",
      " [5.9 3.  4.2 1.5]\n",
      " [6.  2.2 4.  1. ]\n",
      " [6.1 2.9 4.7 1.4]\n",
      " [5.6 2.9 3.6 1.3]\n",
      " [6.7 3.1 4.4 1.4]\n",
      " [5.6 3.  4.5 1.5]\n",
      " [5.8 2.7 4.1 1. ]\n",
      " [6.2 2.2 4.5 1.5]\n",
      " [5.6 2.5 3.9 1.1]\n",
      " [5.9 3.2 4.8 1.8]\n",
      " [6.1 2.8 4.  1.3]\n",
      " [6.3 2.5 4.9 1.5]\n",
      " [6.1 2.8 4.7 1.2]\n",
      " [6.4 2.9 4.3 1.3]\n",
      " [6.6 3.  4.4 1.4]\n",
      " [6.8 2.8 4.8 1.4]\n",
      " [6.7 3.  5.  1.7]\n",
      " [6.  2.9 4.5 1.5]\n",
      " [5.7 2.6 3.5 1. ]\n",
      " [5.5 2.4 3.8 1.1]\n",
      " [5.5 2.4 3.7 1. ]\n",
      " [5.8 2.7 3.9 1.2]\n",
      " [6.  2.7 5.1 1.6]\n",
      " [5.4 3.  4.5 1.5]\n",
      " [6.  3.4 4.5 1.6]\n",
      " [6.7 3.1 4.7 1.5]\n",
      " [6.3 2.3 4.4 1.3]\n",
      " [5.6 3.  4.1 1.3]\n",
      " [5.5 2.5 4.  1.3]\n",
      " [5.5 2.6 4.4 1.2]\n",
      " [6.1 3.  4.6 1.4]\n",
      " [5.8 2.6 4.  1.2]\n",
      " [5.  2.3 3.3 1. ]\n",
      " [5.6 2.7 4.2 1.3]\n",
      " [5.7 3.  4.2 1.2]\n",
      " [5.7 2.9 4.2 1.3]\n",
      " [6.2 2.9 4.3 1.3]\n",
      " [5.1 2.5 3.  1.1]\n",
      " [5.7 2.8 4.1 1.3]\n",
      " [6.3 3.3 6.  2.5]\n",
      " [5.8 2.7 5.1 1.9]\n",
      " [7.1 3.  5.9 2.1]\n",
      " [6.3 2.9 5.6 1.8]\n",
      " [6.5 3.  5.8 2.2]\n",
      " [7.6 3.  6.6 2.1]\n",
      " [4.9 2.5 4.5 1.7]\n",
      " [7.3 2.9 6.3 1.8]\n",
      " [6.7 2.5 5.8 1.8]\n",
      " [7.2 3.6 6.1 2.5]\n",
      " [6.5 3.2 5.1 2. ]\n",
      " [6.4 2.7 5.3 1.9]\n",
      " [6.8 3.  5.5 2.1]\n",
      " [5.7 2.5 5.  2. ]\n",
      " [5.8 2.8 5.1 2.4]\n",
      " [6.4 3.2 5.3 2.3]\n",
      " [6.5 3.  5.5 1.8]\n",
      " [7.7 3.8 6.7 2.2]\n",
      " [7.7 2.6 6.9 2.3]\n",
      " [6.  2.2 5.  1.5]\n",
      " [6.9 3.2 5.7 2.3]\n",
      " [5.6 2.8 4.9 2. ]\n",
      " [7.7 2.8 6.7 2. ]\n",
      " [6.3 2.7 4.9 1.8]\n",
      " [6.7 3.3 5.7 2.1]\n",
      " [7.2 3.2 6.  1.8]\n",
      " [6.2 2.8 4.8 1.8]\n",
      " [6.1 3.  4.9 1.8]\n",
      " [6.4 2.8 5.6 2.1]\n",
      " [7.2 3.  5.8 1.6]\n",
      " [7.4 2.8 6.1 1.9]\n",
      " [7.9 3.8 6.4 2. ]\n",
      " [6.4 2.8 5.6 2.2]\n",
      " [6.3 2.8 5.1 1.5]\n",
      " [6.1 2.6 5.6 1.4]\n",
      " [7.7 3.  6.1 2.3]\n",
      " [6.3 3.4 5.6 2.4]\n",
      " [6.4 3.1 5.5 1.8]\n",
      " [6.  3.  4.8 1.8]\n",
      " [6.9 3.1 5.4 2.1]\n",
      " [6.7 3.1 5.6 2.4]\n",
      " [6.9 3.1 5.1 2.3]\n",
      " [5.8 2.7 5.1 1.9]\n",
      " [6.8 3.2 5.9 2.3]\n",
      " [6.7 3.3 5.7 2.5]\n",
      " [6.7 3.  5.2 2.3]\n",
      " [6.3 2.5 5.  1.9]\n",
      " [6.5 3.  5.2 2. ]\n",
      " [6.2 3.4 5.4 2.3]\n",
      " [5.9 3.  5.1 1.8]]\n",
      "[0 0 0 0 0 0 0 0 0 0 0 0 0 0 0 0 0 0 0 0 0 0 0 0 0 0 0 0 0 0 0 0 0 0 0 0 0\n",
      " 0 0 0 0 0 0 0 0 0 0 0 0 0 1 1 1 1 1 1 1 1 1 1 1 1 1 1 1 1 1 1 1 1 1 1 1 1\n",
      " 1 1 1 1 1 1 1 1 1 1 1 1 1 1 1 1 1 1 1 1 1 1 1 1 1 1 2 2 2 2 2 2 2 2 2 2 2\n",
      " 2 2 2 2 2 2 2 2 2 2 2 2 2 2 2 2 2 2 2 2 2 2 2 2 2 2 2 2 2 2 2 2 2 2 2 2 2\n",
      " 2 2]\n"
     ]
    },
    {
     "name": "stderr",
     "output_type": "stream",
     "text": [
      "/emartcds/anaconda3/lib/python3.7/site-packages/sklearn/linear_model/_logistic.py:940: ConvergenceWarning: lbfgs failed to converge (status=1):\n",
      "STOP: TOTAL NO. of ITERATIONS REACHED LIMIT.\n",
      "\n",
      "Increase the number of iterations (max_iter) or scale the data as shown in:\n",
      "    https://scikit-learn.org/stable/modules/preprocessing.html\n",
      "Please also refer to the documentation for alternative solver options:\n",
      "    https://scikit-learn.org/stable/modules/linear_model.html#logistic-regression\n",
      "  extra_warning_msg=_LOGISTIC_SOLVER_CONVERGENCE_MSG)\n"
     ]
    }
   ],
   "source": [
    "from sklearn.datasets import load_iris\n",
    "from sklearn.linear_model import LogisticRegression\n",
    "X, y = load_iris(return_X_y=True)\n",
    "\n",
    "clf = LogisticRegression(random_state=0).fit(X, y)\n",
    "clf.predict(X[:2, :])\n",
    "clf.predict_proba(X[:2, :])\n",
    "# clf.score(X, y)\n",
    "print(X)\n",
    "print(y)"
   ]
  },
  {
   "cell_type": "code",
   "execution_count": 313,
   "metadata": {
    "ExecuteTime": {
     "end_time": "2020-12-01T05:33:39.297233Z",
     "start_time": "2020-12-01T05:33:39.209583Z"
    }
   },
   "outputs": [],
   "source": [
    "import pickle\n",
    "from sklearn.externals import joblib\n",
    "\n",
    "DIR = '/home/cdsadmin/python_src/EY/YSR/model/'\n",
    "model_dir = DIR+'OVR_LGB_MODEL_1.pkl'\n",
    "\n",
    "# #save model\n",
    "\n",
    "\n",
    "clf_test = joblib.load(model_dir)\n",
    "# save_model(model,'TEST_IRIS_MODEL')\n",
    "# load_model()"
   ]
  },
  {
   "cell_type": "code",
   "execution_count": 314,
   "metadata": {
    "ExecuteTime": {
     "end_time": "2020-12-01T05:33:40.681278Z",
     "start_time": "2020-12-01T05:33:40.624306Z"
    }
   },
   "outputs": [
    {
     "data": {
      "text/plain": [
       "OneVsRestClassifier(estimator=LGBMClassifier(boosting_type='gbdt',\n",
       "                                             class_weight=None,\n",
       "                                             colsample_bytree=1.0,\n",
       "                                             importance_type='split',\n",
       "                                             learning_rate=0.1, max_depth=-1,\n",
       "                                             min_child_samples=20,\n",
       "                                             min_child_weight=0.001,\n",
       "                                             min_split_gain=0.0,\n",
       "                                             n_estimators=100, n_job=10,\n",
       "                                             n_jobs=-1, num_leaves=31,\n",
       "                                             objective=None, random_state=None,\n",
       "                                             reg_alpha=0.0, reg_lambda=0.0,\n",
       "                                             silent=True, subsample=1.0,\n",
       "                                             subsample_for_bin=200000,\n",
       "                                             subsample_freq=0),\n",
       "                    n_jobs=None)"
      ]
     },
     "execution_count": 314,
     "metadata": {},
     "output_type": "execute_result"
    }
   ],
   "source": [
    "clf_test"
   ]
  },
  {
   "cell_type": "code",
   "execution_count": 301,
   "metadata": {
    "ExecuteTime": {
     "end_time": "2020-12-01T05:24:43.912680Z",
     "start_time": "2020-12-01T05:24:41.154689Z"
    },
    "scrolled": true
   },
   "outputs": [
    {
     "name": "stdout",
     "output_type": "stream",
     "text": [
      "(150, 804)\n",
      "(150, 3)\n"
     ]
    },
    {
     "data": {
      "text/plain": [
       "OneVsRestClassifier(estimator=SVC(C=1.0, break_ties=False, cache_size=200,\n",
       "                                  class_weight=None, coef0=0.0,\n",
       "                                  decision_function_shape='ovr', degree=3,\n",
       "                                  gamma='scale', kernel='linear', max_iter=-1,\n",
       "                                  probability=True,\n",
       "                                  random_state=RandomState(MT19937) at 0x7F7D079AD570,\n",
       "                                  shrinking=True, tol=0.001, verbose=False),\n",
       "                    n_jobs=None)"
      ]
     },
     "execution_count": 301,
     "metadata": {},
     "output_type": "execute_result"
    },
    {
     "data": {
      "text/plain": [
       "[<matplotlib.lines.Line2D at 0x7f7d07ba9550>]"
      ]
     },
     "execution_count": 301,
     "metadata": {},
     "output_type": "execute_result"
    },
    {
     "data": {
      "text/plain": [
       "Text(0.5, 0, 'Recall')"
      ]
     },
     "execution_count": 301,
     "metadata": {},
     "output_type": "execute_result"
    },
    {
     "data": {
      "text/plain": [
       "Text(0, 0.5, 'Precision')"
      ]
     },
     "execution_count": 301,
     "metadata": {},
     "output_type": "execute_result"
    },
    {
     "data": {
      "text/plain": [
       "<matplotlib.legend.Legend at 0x7f7d07c72668>"
      ]
     },
     "execution_count": 301,
     "metadata": {},
     "output_type": "execute_result"
    },
    {
     "data": {
      "image/png": "[encoded data removed]",
      "text/plain": [
       "<Figure size 432x288 with 1 Axes>"
      ]
     },
     "metadata": {
      "needs_background": "light"
     },
     "output_type": "display_data"
    },
    {
     "name": "stdout",
     "output_type": "stream",
     "text": [
      "-----------\n"
     ]
    },
    {
     "data": {
      "text/plain": [
       "[<matplotlib.lines.Line2D at 0x7f7fd3149da0>]"
      ]
     },
     "execution_count": 301,
     "metadata": {},
     "output_type": "execute_result"
    },
    {
     "data": {
      "text/plain": [
       "[<matplotlib.lines.Line2D at 0x7f7d07bebef0>]"
      ]
     },
     "execution_count": 301,
     "metadata": {},
     "output_type": "execute_result"
    },
    {
     "data": {
      "text/plain": [
       "(0.0, 1.0)"
      ]
     },
     "execution_count": 301,
     "metadata": {},
     "output_type": "execute_result"
    },
    {
     "data": {
      "text/plain": [
       "(0.0, 1.05)"
      ]
     },
     "execution_count": 301,
     "metadata": {},
     "output_type": "execute_result"
    },
    {
     "data": {
      "text/plain": [
       "Text(0.5, 0, 'False Positive Rate')"
      ]
     },
     "execution_count": 301,
     "metadata": {},
     "output_type": "execute_result"
    },
    {
     "data": {
      "text/plain": [
       "Text(0, 0.5, 'True Positive Rate')"
      ]
     },
     "execution_count": 301,
     "metadata": {},
     "output_type": "execute_result"
    },
    {
     "data": {
      "text/plain": [
       "Text(0.5, 1.0, 'Receiver operating characteristic example')"
      ]
     },
     "execution_count": 301,
     "metadata": {},
     "output_type": "execute_result"
    },
    {
     "data": {
      "text/plain": [
       "<matplotlib.legend.Legend at 0x7f7dc499bac8>"
      ]
     },
     "execution_count": 301,
     "metadata": {},
     "output_type": "execute_result"
    },
    {
     "data": {
      "image/png": "[encoded data removed]",
      "text/plain": [
       "<Figure size 432x288 with 1 Axes>"
      ]
     },
     "metadata": {
      "needs_background": "light"
     },
     "output_type": "display_data"
    },
    {
     "data": {
      "text/plain": [
       "[<matplotlib.lines.Line2D at 0x7f7dc49a0eb8>]"
      ]
     },
     "execution_count": 301,
     "metadata": {},
     "output_type": "execute_result"
    },
    {
     "data": {
      "text/plain": [
       "[<matplotlib.lines.Line2D at 0x7f7dc4ace3c8>]"
      ]
     },
     "execution_count": 301,
     "metadata": {},
     "output_type": "execute_result"
    },
    {
     "data": {
      "text/plain": [
       "[<matplotlib.lines.Line2D at 0x7f7dc4b3c4e0>]"
      ]
     },
     "execution_count": 301,
     "metadata": {},
     "output_type": "execute_result"
    },
    {
     "data": {
      "text/plain": [
       "[<matplotlib.lines.Line2D at 0x7f7d07af9438>]"
      ]
     },
     "execution_count": 301,
     "metadata": {},
     "output_type": "execute_result"
    },
    {
     "name": "stderr",
     "output_type": "stream",
     "text": [
      "/emartcds/anaconda3/lib/python3.7/site-packages/ipykernel_launcher.py:103: DeprecationWarning: scipy.interp is deprecated and will be removed in SciPy 2.0.0, use numpy.interp instead\n"
     ]
    },
    {
     "data": {
      "text/plain": [
       "[<matplotlib.lines.Line2D at 0x7f7dc4b3c9b0>]"
      ]
     },
     "execution_count": 301,
     "metadata": {},
     "output_type": "execute_result"
    },
    {
     "data": {
      "text/plain": [
       "[<matplotlib.lines.Line2D at 0x7f7dc4b3ca20>]"
      ]
     },
     "execution_count": 301,
     "metadata": {},
     "output_type": "execute_result"
    },
    {
     "data": {
      "text/plain": [
       "(0.0, 1.0)"
      ]
     },
     "execution_count": 301,
     "metadata": {},
     "output_type": "execute_result"
    },
    {
     "data": {
      "text/plain": [
       "(0.0, 1.05)"
      ]
     },
     "execution_count": 301,
     "metadata": {},
     "output_type": "execute_result"
    },
    {
     "data": {
      "text/plain": [
       "Text(0.5, 0, 'False Positive Rate')"
      ]
     },
     "execution_count": 301,
     "metadata": {},
     "output_type": "execute_result"
    },
    {
     "data": {
      "text/plain": [
       "Text(0, 0.5, 'True Positive Rate')"
      ]
     },
     "execution_count": 301,
     "metadata": {},
     "output_type": "execute_result"
    },
    {
     "data": {
      "text/plain": [
       "Text(0.5, 1.0, 'Some extension of Receiver operating characteristic to multi-class')"
      ]
     },
     "execution_count": 301,
     "metadata": {},
     "output_type": "execute_result"
    },
    {
     "data": {
      "text/plain": [
       "<matplotlib.legend.Legend at 0x7f7dc4b3c908>"
      ]
     },
     "execution_count": 301,
     "metadata": {},
     "output_type": "execute_result"
    },
    {
     "data": {
      "image/png": "[encoded data removed]",
      "text/plain": [
       "<Figure size 432x288 with 1 Axes>"
      ]
     },
     "metadata": {
      "needs_background": "light"
     },
     "output_type": "display_data"
    }
   ],
   "source": [
    "import numpy as np\n",
    "import matplotlib.pyplot as plt\n",
    "from itertools import cycle\n",
    "\n",
    "from sklearn import svm, datasets\n",
    "from sklearn.metrics import roc_curve, auc, roc_auc_score,classification_report,precision_recall_curve\n",
    "from sklearn.model_selection import train_test_split\n",
    "from sklearn.preprocessing import label_binarize\n",
    "from sklearn.multiclass import OneVsRestClassifier,OneVsOneClassifier\n",
    "from scipy import interp\n",
    "from lightgbm import LGBMClassifier\n",
    "from xgboost import XGBClassifier\n",
    "\n",
    "# Import some data to play with\n",
    "iris = datasets.load_iris()\n",
    "x_data = iris.data\n",
    "y_data = iris.target\n",
    "\n",
    "# Binarize the output\n",
    "y_data = label_binarize(y_data, classes=[0, 1, 2])\n",
    "n_classes = y_data.shape[1]\n",
    "\n",
    "# Add noisy features to make the problem harder\n",
    "random_state = np.random.RandomState(0)\n",
    "n_samples, n_features = x_data.shape\n",
    "x_data = np.c_[x_data, random_state.randn(n_samples, 200 * n_features)]\n",
    "print(x_data.shape) #(150, 804)\n",
    "print(y_data.shape) #(150, 3)\n",
    "\n",
    "# shuffle and split training and test sets\n",
    "X_train, X_test, y_train, y_test = train_test_split(x_data, y_data, test_size=.5, random_state=0)\n",
    "\n",
    "####################\n",
    "\n",
    "# Learn to predict each class against the other\n",
    "model = OneVsRestClassifier(svm.SVC(kernel='linear', probability=True, random_state=random_state))\n",
    "# model = OneVsRestClassifier(XGBClassifier())\n",
    "\n",
    "\n",
    "svm.SVC(kernel='linear', probability=True, random_state=random_state)\n",
    "\n",
    "####################\n",
    "\n",
    "model.fit(X_train, y_train)\n",
    "\n",
    "# Compute ROC curve and ROC area for each class\n",
    "# y_score = model.decision_function(X_test)\n",
    "y_score = model.predict_proba(X_test)\n",
    "prec,rec,pr_thres = precision_recall_curve(y_test[:,0],y_score[:,0])\n",
    "pyplot.plot(rec, prec, marker='.', label='Logistic')\n",
    "pyplot.xlabel('Recall')\n",
    "pyplot.ylabel('Precision')\n",
    "# show the legend\n",
    "pyplot.legend()\n",
    "# show the plot\n",
    "pyplot.show()\n",
    "fpr = dict()\n",
    "tpr = dict()\n",
    "roc_auc = dict()\n",
    "for i in range(n_classes):\n",
    "    fpr[i], tpr[i], _ = roc_curve(y_test[:, i], y_score[:, i])\n",
    "    #roc_auc[i] = auc(fpr[i], tpr[i])\n",
    "    roc_auc[i] = roc_auc_score(y_test[:, i], y_score[:, i])\n",
    "\n",
    "# Compute micro-average ROC curve and ROC area\n",
    "fpr[\"micro\"], tpr[\"micro\"], _ = roc_curve(y_test.ravel(), y_score.ravel())\n",
    "#roc_auc[\"micro\"] = auc(fpr[\"micro\"], tpr[\"micro\"])\n",
    "roc_auc[\"micro\"] = roc_auc_score(y_test.ravel(), y_score.ravel())\n",
    "\n",
    "print('-----------')\n",
    "##print(y_test)\n",
    "##print(y_test.ravel())\n",
    "\n",
    "##################\n",
    "\n",
    "##plt.figure()\n",
    "plt.plot(fpr[2], tpr[2],\n",
    "         color='darkorange', label='ROC curve (area = {:0.2f})'.format(roc_auc[2]))\n",
    "plt.plot([0, 1], [0, 1],\n",
    "         color='navy', linestyle='--')\n",
    "plt.xlim([0.0, 1.0])\n",
    "plt.ylim([0.0, 1.05])\n",
    "plt.xlabel('False Positive Rate')\n",
    "plt.ylabel('True Positive Rate')\n",
    "plt.title('Receiver operating characteristic example')\n",
    "plt.legend(loc=\"lower right\")\n",
    "plt.show()\n",
    "\n",
    "#####################\n",
    "#Plot ROC curves for the multiclass problem\n",
    "\n",
    "# Plot all ROC curves\n",
    "colors = cycle(['aqua', 'darkorange', 'cornflowerblue'])\n",
    "for i, color in zip(range(n_classes), colors):\n",
    "    plt.plot(fpr[i], tpr[i],\n",
    "             color=color, label='ROC curve of class {0} (area = {1:0.2f})'.format(i, roc_auc[i]))\n",
    "plt.plot([0, 1], [0, 1],\n",
    "         color='navy', linestyle='--')\n",
    "\n",
    "# Compute macro-average ROC curve and ROC area\n",
    "# First aggregate all false positive rates\n",
    "all_fpr = np.unique(np.concatenate([fpr[i] for i in range(n_classes)]))\n",
    "# Then interpolate all ROC curves at this points\n",
    "mean_tpr = np.zeros_like(all_fpr)\n",
    "for i in range(n_classes):\n",
    "    mean_tpr += interp(all_fpr, fpr[i], tpr[i])\n",
    "# Finally average it and compute AUC\n",
    "mean_tpr /= n_classes\n",
    "fpr[\"macro\"] = all_fpr\n",
    "tpr[\"macro\"] = mean_tpr\n",
    "roc_auc[\"macro\"] = auc(fpr[\"macro\"], tpr[\"macro\"])\n",
    "plt.plot(fpr[\"micro\"], tpr[\"micro\"],\n",
    "         label='micro-average ROC curve (area = {:0.2f})'.format(roc_auc[\"micro\"]), color='deeppink', linestyle=':')\n",
    "plt.plot(fpr[\"macro\"], tpr[\"macro\"],\n",
    "         label='macro-average ROC curve (area = {:0.2f})'.format(roc_auc[\"macro\"]), color='navy', linestyle=':')\n",
    "\n",
    "plt.xlim([0.0, 1.0])\n",
    "plt.ylim([0.0, 1.05])\n",
    "plt.xlabel('False Positive Rate')\n",
    "plt.ylabel('True Positive Rate')\n",
    "plt.title('Some extension of Receiver operating characteristic to multi-class')\n",
    "plt.legend(loc=\"lower right\")\n",
    "plt.show()\n",
    "\n"
   ]
  },
  {
   "cell_type": "code",
   "execution_count": 316,
   "metadata": {
    "ExecuteTime": {
     "end_time": "2020-12-01T10:29:56.418867Z",
     "start_time": "2020-12-01T10:29:56.385946Z"
    }
   },
   "outputs": [
    {
     "data": {
      "text/plain": [
       "GaussianNB(priors=None, var_smoothing=1e-09)"
      ]
     },
     "execution_count": 316,
     "metadata": {},
     "output_type": "execute_result"
    }
   ],
   "source": [
    "from sklearn.naive_bayes import GaussianNB\n",
    "GaussianNB()"
   ]
  },
  {
   "cell_type": "code",
   "execution_count": 255,
   "metadata": {
    "ExecuteTime": {
     "end_time": "2020-11-26T06:11:49.822997Z",
     "start_time": "2020-11-26T06:11:49.573217Z"
    }
   },
   "outputs": [
    {
     "data": {
      "text/plain": [
       "LogisticRegression(C=1.0, class_weight=None, dual=False, fit_intercept=True,\n",
       "                   intercept_scaling=1, l1_ratio=None, max_iter=100,\n",
       "                   multi_class='auto', n_jobs=None, penalty='l2',\n",
       "                   random_state=None, solver='lbfgs', tol=0.0001, verbose=0,\n",
       "                   warm_start=False)"
      ]
     },
     "execution_count": 255,
     "metadata": {},
     "output_type": "execute_result"
    },
    {
     "name": "stdout",
     "output_type": "stream",
     "text": [
      "Logistic: f1=0.841 auc=0.898\n"
     ]
    },
    {
     "data": {
      "text/plain": [
       "[<matplotlib.lines.Line2D at 0x7f7d046e0f98>]"
      ]
     },
     "execution_count": 255,
     "metadata": {},
     "output_type": "execute_result"
    },
    {
     "data": {
      "text/plain": [
       "[<matplotlib.lines.Line2D at 0x7f7d077439b0>]"
      ]
     },
     "execution_count": 255,
     "metadata": {},
     "output_type": "execute_result"
    },
    {
     "data": {
      "text/plain": [
       "Text(0.5, 0, 'Recall')"
      ]
     },
     "execution_count": 255,
     "metadata": {},
     "output_type": "execute_result"
    },
    {
     "data": {
      "text/plain": [
       "Text(0, 0.5, 'Precision')"
      ]
     },
     "execution_count": 255,
     "metadata": {},
     "output_type": "execute_result"
    },
    {
     "data": {
      "text/plain": [
       "<matplotlib.legend.Legend at 0x7f7d04734e48>"
      ]
     },
     "execution_count": 255,
     "metadata": {},
     "output_type": "execute_result"
    },
    {
     "data": {
      "image/png": "[encoded data removed]",
      "text/plain": [
       "<Figure size 432x288 with 1 Axes>"
      ]
     },
     "metadata": {
      "needs_background": "light"
     },
     "output_type": "display_data"
    }
   ],
   "source": [
    "# precision-recall curve and f1\n",
    "from sklearn.datasets import make_classification\n",
    "from sklearn.linear_model import LogisticRegression\n",
    "from sklearn.model_selection import train_test_split\n",
    "from sklearn.metrics import precision_recall_curve\n",
    "from sklearn.metrics import f1_score\n",
    "from sklearn.metrics import auc\n",
    "from matplotlib import pyplot\n",
    "\n",
    "# generate 2 class dataset\n",
    "X, y = make_classification(n_samples=1000, n_classes=2, random_state=1)\n",
    "# split into train/test sets\n",
    "trainX, testX, trainy, testy = train_test_split(X, y, test_size=0.5, random_state=2)\n",
    "# fit a model\n",
    "model = LogisticRegression(solver='lbfgs')\n",
    "model.fit(trainX, trainy)\n",
    "# predict probabilities\n",
    "lr_probs = model.predict_proba(testX)\n",
    "# keep probabilities for the positive outcome only\n",
    "lr_probs = lr_probs[:, 1]\n",
    "# predict class values\n",
    "yhat = model.predict(testX)\n",
    "lr_precision, lr_recall, _ = precision_recall_curve(testy, lr_probs)\n",
    "lr_f1, lr_auc = f1_score(testy, yhat), auc(lr_recall, lr_precision)\n",
    "# summarize scores\n",
    "print('Logistic: f1=%.3f auc=%.3f' % (lr_f1, lr_auc))\n",
    "# plot the precision-recall curves\n",
    "no_skill = len(testy[testy==1]) / len(testy)\n",
    "pyplot.plot([0, 1], [no_skill, no_skill], linestyle='--', label='No Skill')\n",
    "pyplot.plot(lr_recall, lr_precision, marker='.', label='Logistic')\n",
    "# axis labels\n",
    "pyplot.xlabel('Recall')\n",
    "pyplot.ylabel('Precision')\n",
    "# show the legend\n",
    "pyplot.legend()\n",
    "# show the plot\n",
    "pyplot.show()"
   ]
  },
  {
   "cell_type": "code",
   "execution_count": 93,
   "metadata": {
    "ExecuteTime": {
     "end_time": "2020-11-24T11:38:43.133758Z",
     "start_time": "2020-11-24T11:38:42.564609Z"
    }
   },
   "outputs": [
    {
     "name": "stdout",
     "output_type": "stream",
     "text": [
      "============================= Multiclass Classifier =========================\n",
      "CLASS : 1 \n",
      "==============================   ACCURACY  =================================\n",
      "ACCURACY : 81.33%\n",
      "============================================================================\n",
      "==============================   COUNT DATA   ==============================\n",
      "C1_Count : 21\n",
      "C2_Count : 30\n",
      "C3_Count : 24\n",
      "C1_test_Count : 21\n",
      "C1_pred_Count : 15\n",
      "===========================   Confusion Matrix   ===========================\n",
      "[[50  4]\n",
      " [10 11]]\n",
      "TN : 50\n",
      "TP : 11\n",
      "FN : 10\n",
      "FP : 4\n",
      "============================================================================\n",
      "=========================   Precision / Recall   ===========================\n",
      "precision_rate : 73.33% (TP+/TP+FP)\n",
      "recall_rate : 52.38% (TP+/TP+FN)\n",
      "=============================   F1 SCORE   =================================\n",
      "f1_score :  61.11% (2*((precision * recall)/(precision+recall)))\n",
      "================================   AUC_SCORE  ==============================\n",
      "AUC_SCORE : 0.72%\n",
      "============================================================================\n",
      "\n",
      "\n",
      "============================= Multiclass Classifier =========================\n",
      "CLASS : 2 \n",
      "==============================   ACCURACY  =================================\n",
      "ACCURACY : 62.67%\n",
      "============================================================================\n",
      "==============================   COUNT DATA   ==============================\n",
      "C1_Count : 21\n",
      "C2_Count : 30\n",
      "C3_Count : 24\n",
      "C2_test_Count : 30\n",
      "C2_pred_Count : 2\n",
      "===========================   Confusion Matrix   ===========================\n",
      "[[45  0]\n",
      " [28  2]]\n",
      "TN : 45\n",
      "TP : 2\n",
      "FN : 28\n",
      "FP : 0\n",
      "============================================================================\n",
      "=========================   Precision / Recall   ===========================\n",
      "precision_rate : 100.00% (TP+/TP+FP)\n",
      "recall_rate : 6.67% (TP+/TP+FN)\n",
      "=============================   F1 SCORE   =================================\n",
      "f1_score :  12.50% (2*((precision * recall)/(precision+recall)))\n",
      "================================   AUC_SCORE  ==============================\n",
      "AUC_SCORE : 0.53%\n",
      "============================================================================\n",
      "\n",
      "\n",
      "============================= Multiclass Classifier =========================\n",
      "CLASS : 3 \n",
      "==============================   ACCURACY  =================================\n",
      "ACCURACY : 70.67%\n",
      "============================================================================\n",
      "==============================   COUNT DATA   ==============================\n",
      "C1_Count : 21\n",
      "C2_Count : 30\n",
      "C3_Count : 24\n",
      "C3_test_Count : 24\n",
      "C3_pred_Count : 14\n",
      "===========================   Confusion Matrix   ===========================\n",
      "[[45  6]\n",
      " [16  8]]\n",
      "TN : 45\n",
      "TP : 8\n",
      "FN : 16\n",
      "FP : 6\n",
      "============================================================================\n",
      "=========================   Precision / Recall   ===========================\n",
      "precision_rate : 57.14% (TP+/TP+FP)\n",
      "recall_rate : 33.33% (TP+/TP+FN)\n",
      "=============================   F1 SCORE   =================================\n",
      "f1_score :  42.11% (2*((precision * recall)/(precision+recall)))\n",
      "================================   AUC_SCORE  ==============================\n",
      "AUC_SCORE : 0.61%\n",
      "============================================================================\n",
      "\n",
      "\n"
     ]
    }
   ],
   "source": [
    "from sklearn.metrics import confusion_matrix,precision_score,recall_score,\\\n",
    "                              f1_score,accuracy_score,roc_auc_score,roc_curve,auc\n",
    "from sklearn.model_selection import cross_val_score,KFold\n",
    "\n",
    "\n",
    "\n",
    "y_pred = model.predict(X_test)\n",
    "# print(y_pred)\n",
    "# print(y_pred[:,0])\n",
    "\n",
    "\n",
    "    \n",
    "\n",
    "# fpr = dict()\n",
    "# tpr = dict()\n",
    "# roc_auc = dict()\n",
    "\n",
    "    \n",
    "# for i in range(n_classes):\n",
    "#     fpr[i], tpr[i], _ = roc_curve(y_test[:, i], y_score[:, i])\n",
    "#     #roc_auc[i] = auc(fpr[i], tpr[i])\n",
    "#     roc_auc[i] = roc_auc_score(y_test[:, i], y_score[:, i])\n",
    "\n",
    "# # Compute micro-average ROC curve and ROC area\n",
    "# fpr[\"micro\"], tpr[\"micro\"], _ = roc_curve(y_test.ravel(), y_score.ravel())\n",
    "# #roc_auc[\"micro\"] = auc(fpr[\"micro\"], tpr[\"micro\"])\n",
    "# roc_auc[\"micro\"] = roc_auc_score(y_test.ravel(), y_score.ravel())\n",
    "\n",
    "def model_score(**args):    \n",
    "    global TN,TP,FN,FP\n",
    "    global acc_s,f1_s,recall_s,precision_s,auc_score\n",
    "    y_test = args['y_test']\n",
    "    y_pred = args['y_pred']\n",
    "    c1 = y_test[:,0]\n",
    "    c1 = y_test[:,1]\n",
    "    c2 = y_test[:,2]\n",
    "    for i in range(n_classes):\n",
    "        clf_class             = i+1\n",
    "        pred_y                = y_pred[:,i]\n",
    "        test_y                = y_test[:,i]\n",
    "        cm_matrix             = confusion_matrix(test_y,pred_y)\n",
    "        TN                    = int(cm_matrix[0][0])\n",
    "        TP                    = int(cm_matrix[1][1])\n",
    "        FN                    = int(cm_matrix[1][0])\n",
    "        FP                    = int(cm_matrix[0][1])\n",
    "        acc_s                 = float(accuracy_score(test_y, pred_y)*100)\n",
    "        precision_s           = float(precision_score(test_y, pred_y)*100)\n",
    "        recall_s              = float(recall_score(test_y, pred_y)*100)\n",
    "        f1_s                  = float(f1_score(test_y, pred_y)*100)\n",
    "        fpr, tpr, thresholds  = roc_curve(test_y, pred_y, pos_label=None)\n",
    "        auc_score             = auc(fpr,tpr)\n",
    "        print(\"============================= Multiclass Classifier =========================\")\n",
    "        print(\"CLASS : %s \"% clf_class)\n",
    "        print(\"==============================   ACCURACY  =================================\")\n",
    "        print(\"ACCURACY : {0:.2F}%\".format(acc_s))\n",
    "        print(\"============================================================================\")\n",
    "        print(\"==============================   COUNT DATA   ==============================\")\n",
    "        print(\"C1_Count : %s\"% len(c0[c0==1]))\n",
    "        print(\"C2_Count : %s\"% len(c1[c1==1]))1\n",
    "        print(\"C3_Count : %s\"% len(c2[c2==1]))\n",
    "        print(\"C%s_test_Count : %s\"%(clf_class,len(test_y[test_y == 1])))\n",
    "        print(\"C%s_pred_Count : %s\"%(clf_class,len(pred_y[pred_y == 1])))\n",
    "        print(\"===========================   Confusion Matrix   ===========================\")\n",
    "        print(cm_matrix)\n",
    "        print(\"TN : %s\"% TN)\n",
    "        print(\"TP : %s\"% TP)\n",
    "        print(\"FN : %s\"% FN)\n",
    "        print(\"FP : %s\"% FP)\n",
    "        print(\"============================================================================\")\n",
    "        print(\"=========================   Precision / Recall   ===========================\")\n",
    "        print(\"precision_rate : %.2f%% (TP+/TP+FP)\" % precision_s)\n",
    "        print(\"recall_rate : %.2f%% (TP+/TP+FN)\" % recall_s)\n",
    "        print(\"=============================   F1 SCORE   =================================\")\n",
    "        print(\"f1_score :  %.2f%% (2*((precision * recall)/(precision+recall)))\"%f1_s)\n",
    "        print(\"================================   AUC_SCORE  ==============================\")\n",
    "        print(\"AUC_SCORE : %.2f%%\"%auc_score)\n",
    "        print(\"============================================================================\\n\\n\\n\\n\")\n",
    "    \n",
    "model_score(y_test = y_test,y_pred = y_pred)"
   ]
  },
  {
   "cell_type": "code",
   "execution_count": 229,
   "metadata": {
    "ExecuteTime": {
     "end_time": "2020-11-25T07:03:07.429226Z",
     "start_time": "2020-11-25T07:03:07.387226Z"
    }
   },
   "outputs": [
    {
     "name": "stdout",
     "output_type": "stream",
     "text": [
      "[2 1 2 0 2 0 1 0 2 1 0 2 1 0 1 0 2 2 0 0 1 0 2 2 2 2 2 0 2 1 2 2 1 2 0 0 0\n",
      " 0 1 1 0 0 1 1 0 2 0 1 1 2 1 0 2 0 1 1 0 2 1 2 1 2 1 2 0 0 1 0 1 1 2 1 2 0\n",
      " 1]\n",
      "[[0.02728882 0.19869458 0.99999891]\n",
      " [0.02726092 0.50594198 0.0043914 ]\n",
      " [0.02728144 0.19872169 0.99999891]\n",
      " [0.98697055 0.19868847 0.00439816]\n",
      " [0.02726129 0.19872249 0.99999891]\n",
      " [0.9869801  0.19873649 0.00438625]\n",
      " [0.36802933 0.26288439 0.30443429]\n",
      " [0.98697052 0.1986988  0.00438458]\n",
      " [0.02732342 0.19871558 0.9999989 ]\n",
      " [0.20832613 0.2752452  0.476139  ]\n",
      " [0.98700816 0.19872022 0.00438076]\n",
      " [0.08040636 0.32862383 0.40574087]\n",
      " [0.18275436 0.29570193 0.31551446]\n",
      " [0.98696307 0.1987547  0.00438961]\n",
      " [0.02732962 0.50596917 0.00437433]\n",
      " [0.98696659 0.19876858 0.00438447]\n",
      " [0.02730612 0.19876417 0.99999891]\n",
      " [0.0272828  0.19872104 0.99999891]\n",
      " [0.35055261 0.22215714 0.77847273]\n",
      " [0.98697778 0.19872022 0.00439947]\n",
      " [0.08949873 0.35206276 0.17168836]\n",
      " [0.70427178 0.23350667 0.16174491]\n",
      " [0.02729753 0.19385444 0.99999891]\n",
      " [0.02731677 0.19869742 0.9999989 ]\n",
      " [0.22780317 0.23289232 0.83776658]\n",
      " [0.65458313 0.2156565  0.402117  ]\n",
      " [0.02732431 0.19872692 0.9999989 ]\n",
      " [0.98697146 0.19869503 0.00438289]\n",
      " [0.02725433 0.19875726 0.99999891]\n",
      " [0.02728609 0.50591231 0.00438717]\n",
      " [0.21284636 0.28906341 0.30883648]\n",
      " [0.06309289 0.27055496 0.91398092]\n",
      " [0.54220628 0.23019127 0.40182172]\n",
      " [0.06548185 0.28009701 0.85673617]\n",
      " [0.98695816 0.19873776 0.00439436]\n",
      " [0.58058347 0.22745571 0.38332661]\n",
      " [0.98697625 0.19869333 0.00439641]\n",
      " [0.98696966 0.19871987 0.00439315]\n",
      " [0.1687203  0.29927801 0.31148687]\n",
      " [0.11355341 0.3661768  0.06411484]\n",
      " [0.70002944 0.25211349 0.0649614 ]\n",
      " [0.75272755 0.21166914 0.28579963]\n",
      " [0.75807145 0.24018602 0.07484284]\n",
      " [0.027297   0.50594285 0.00438735]\n",
      " [0.98697452 0.19867073 0.00100626]\n",
      " [0.09387832 0.31722767 0.40764304]\n",
      " [0.55889387 0.31700937 0.01043748]\n",
      " [0.02729168 0.50593755 0.00438944]\n",
      " [0.02730764 0.50587006 0.00438422]\n",
      " [0.02733587 0.19870512 0.99999891]\n",
      " [0.02733766 0.50594036 0.00439354]\n",
      " [0.98697885 0.19870429 0.00438106]\n",
      " [0.02731491 0.19867236 0.99999891]\n",
      " [0.61344851 0.29753427 0.01675224]\n",
      " [0.02733744 0.50591303 0.00438293]\n",
      " [0.47317061 0.21645037 0.64967324]\n",
      " [0.98699248 0.19868628 0.00438737]\n",
      " [0.02727409 0.1987183  0.99999891]\n",
      " [0.02725184 0.50598576 0.00438329]\n",
      " [0.02734737 0.19877077 0.99999891]\n",
      " [0.13960787 0.31366317 0.26457872]\n",
      " [0.13942582 0.2824293  0.57830915]\n",
      " [0.02731325 0.50593155 0.00438556]\n",
      " [0.11592663 0.28260871 0.64927185]\n",
      " [0.51033921 0.25289891 0.21924338]\n",
      " [0.98700012 0.18714797 0.00438048]\n",
      " [0.51351352 0.26620334 0.12385265]\n",
      " [0.98698052 0.19871382 0.00439465]\n",
      " [0.27598735 0.23436945 0.7603437 ]\n",
      " [0.0272948  0.50599054 0.0043743 ]\n",
      " [0.0272742  0.19814405 0.99999891]\n",
      " [0.39343527 0.24360441 0.48134758]\n",
      " [0.02730598 0.19876268 0.99999891]\n",
      " [0.98699872 0.19875023 0.00437272]\n",
      " [0.02726331 0.50588546 0.00438376]]\n",
      "[[3.91727761e-04 2.54066496e-03 9.99844002e-01]\n",
      " [4.07745612e-04 9.85422944e-01 9.11088194e-05]\n",
      " [3.16245067e-04 5.92509926e-03 9.99816437e-01]\n",
      " [9.99528489e-01 2.14485357e-03 4.85564571e-05]\n",
      " [1.01197893e-04 4.96859407e-03 9.99698483e-01]\n",
      " [9.99487497e-01 2.38469920e-03 6.87129192e-05]\n",
      " [6.73977889e-04 6.73965081e-02 8.66074524e-01]\n",
      " [9.91308479e-01 7.35191702e-03 5.79315002e-05]\n",
      " [4.58158195e-05 7.77340081e-03 9.99898743e-01]\n",
      " [6.18334196e-05 9.18395137e-01 5.56270116e-05]\n",
      " [9.99594139e-01 3.62407651e-03 1.11951136e-04]\n",
      " [3.78258853e-05 5.36355885e-01 9.92640944e-01]\n",
      " [1.06497471e-04 6.33818808e-01 3.15266204e-04]\n",
      " [9.99673143e-01 1.32305684e-02 3.49002995e-05]\n",
      " [1.95439209e-03 9.92066667e-01 6.00615296e-05]\n",
      " [9.99281160e-01 3.45399751e-03 3.65987989e-05]\n",
      " [2.48821587e-04 3.17378234e-03 9.99845437e-01]\n",
      " [2.04208317e-04 1.80557948e-03 9.99713171e-01]\n",
      " [9.99490049e-01 1.92972345e-02 2.91865568e-04]\n",
      " [9.99649795e-01 1.59038203e-03 5.58125373e-05]\n",
      " [1.07438970e-04 9.26352405e-01 1.31855194e-04]\n",
      " [9.96384505e-01 2.65764408e-02 6.77043166e-04]\n",
      " [3.28022504e-04 1.55245237e-03 9.99916382e-01]\n",
      " [2.31483999e-04 2.80323753e-03 9.99770828e-01]\n",
      " [9.10578319e-05 7.69585392e-02 2.81134412e-01]\n",
      " [2.38160608e-04 1.07633517e-02 1.93258481e-01]\n",
      " [2.88416152e-04 3.88142492e-03 9.99828251e-01]\n",
      " [9.99668878e-01 9.06419744e-03 4.34196598e-05]\n",
      " [3.30320487e-05 7.35757514e-03 9.99906681e-01]\n",
      " [2.69382531e-04 9.91303364e-01 8.84062903e-05]\n",
      " [4.30742472e-05 6.48966790e-02 1.06504397e-02]\n",
      " [4.01559828e-04 2.32500780e-02 9.99346941e-01]\n",
      " [9.25522967e-05 8.93720128e-01 8.44528085e-05]\n",
      " [9.54785353e-05 5.29539862e-02 9.98847849e-01]\n",
      " [9.99620681e-01 6.18134615e-03 9.64891179e-05]\n",
      " [9.56472231e-01 5.91738213e-02 1.96381194e-04]\n",
      " [9.99444022e-01 5.28360561e-03 7.75648275e-05]\n",
      " [9.99535512e-01 4.17670111e-03 1.06975534e-04]\n",
      " [3.01745673e-04 2.83511646e-01 1.77824362e-04]\n",
      " [1.72803564e-04 6.15169175e-01 3.49186467e-04]\n",
      " [9.98985445e-01 1.81073780e-02 5.12277700e-05]\n",
      " [9.99362190e-01 1.14258142e-02 6.54331922e-05]\n",
      " [3.09758274e-04 5.18290484e-01 3.96788430e-05]\n",
      " [2.07074132e-03 9.90521437e-01 6.89120191e-05]\n",
      " [9.99440500e-01 5.64416567e-03 6.77547558e-05]\n",
      " [3.14296063e-05 3.58272814e-01 8.60829560e-01]\n",
      " [9.99283551e-01 2.04385941e-02 8.20533931e-05]\n",
      " [4.30952155e-05 9.94532715e-01 7.57290346e-05]\n",
      " [2.06973591e-04 9.46819489e-01 2.04142749e-03]\n",
      " [2.90011184e-04 1.26165661e-03 9.99887316e-01]\n",
      " [9.38094932e-03 9.76099935e-01 3.46098187e-05]\n",
      " [9.99701378e-01 2.91910042e-03 7.76000250e-05]\n",
      " [5.37647234e-05 1.15074068e-02 9.99799406e-01]\n",
      " [9.99351922e-01 4.44329454e-02 1.48086694e-04]\n",
      " [2.30514205e-04 9.88905273e-01 2.95636275e-05]\n",
      " [1.15119023e-02 6.50220235e-01 8.25715469e-05]\n",
      " [9.99557949e-01 1.51432114e-03 4.99022801e-05]\n",
      " [7.45973317e-05 1.04511504e-02 9.99781169e-01]\n",
      " [3.56004301e-05 9.89761917e-01 5.64892539e-05]\n",
      " [2.88104544e-04 1.64803033e-03 9.99841833e-01]\n",
      " [4.11407020e-05 9.20904750e-01 4.36848740e-05]\n",
      " [5.01824326e-05 2.10932399e-01 2.06774229e-02]\n",
      " [3.47088707e-04 9.74547220e-01 6.29495654e-04]\n",
      " [5.48115828e-04 5.15637619e-03 3.75484652e-01]\n",
      " [9.99171491e-01 4.39637377e-02 5.73303459e-05]\n",
      " [9.99672643e-01 3.04597771e-03 2.54646989e-05]\n",
      " [5.26743718e-05 8.85573687e-01 6.07167372e-05]\n",
      " [9.99563163e-01 2.69429899e-03 4.53369566e-05]\n",
      " [7.42525723e-04 3.51062271e-01 1.22174138e-04]\n",
      " [2.95055213e-05 9.91166425e-01 3.58084654e-05]\n",
      " [4.16712223e-05 1.12463658e-02 9.99694484e-01]\n",
      " [6.03910712e-03 8.32885949e-01 1.32971008e-04]\n",
      " [1.59297310e-04 8.54086765e-03 9.99873881e-01]\n",
      " [9.99578131e-01 4.59949170e-03 4.73835819e-05]\n",
      " [4.20246420e-05 9.85857059e-01 6.59922143e-05]]\n"
     ]
    }
   ],
   "source": [
    "# # Learn to predict each class against the other\n",
    "# svm_model = OneVsRestClassifier(svm.SVC(kernel='linear', probability=True, random_state=random_state))\n",
    "lgb_model = OneVsRestClassifier(LGBMClassifier())\n",
    "\n",
    "# ####################\n",
    "\n",
    "# svm_model.fit(X_train, y_train)\n",
    "# lgb_model.fit(X_train, y_train)\n",
    "\n",
    "# Compute ROC curve and ROC area for each class\n",
    "svm_y_score = svm_model.predict_proba(X_test)\n",
    "lgb_y_score = lgb_model.predict_proba(X_test)\n",
    "print(y_test)\n",
    "print(svm_y_score)\n",
    "print(lgb_y_score)\n"
   ]
  },
  {
   "cell_type": "code",
   "execution_count": 244,
   "metadata": {
    "ExecuteTime": {
     "end_time": "2020-11-25T10:16:32.577064Z",
     "start_time": "2020-11-25T10:16:32.571003Z"
    }
   },
   "outputs": [
    {
     "data": {
      "text/plain": [
       "array([2, 1, 2, 0, 2, 0, 1, 0, 2, 1, 0, 2, 1, 0, 1, 0, 2, 2, 0, 0, 1, 0,\n",
       "       2, 2, 2, 2, 2, 0, 2, 1, 2, 2, 1, 2, 0, 0, 0, 0, 1, 1, 0, 0, 1, 1,\n",
       "       0, 2, 0, 1, 1, 2, 1, 0, 2, 0, 1, 1, 0, 2, 1, 2, 1, 2, 1, 2, 0, 0,\n",
       "       1, 0, 1, 1, 2, 1, 2, 0, 1])"
      ]
     },
     "execution_count": 244,
     "metadata": {},
     "output_type": "execute_result"
    }
   ],
   "source": [
    "y_test"
   ]
  },
  {
   "cell_type": "code",
   "execution_count": 240,
   "metadata": {
    "ExecuteTime": {
     "end_time": "2020-11-25T10:09:37.359836Z",
     "start_time": "2020-11-25T10:09:36.572001Z"
    },
    "scrolled": false
   },
   "outputs": [
    {
     "name": "stdout",
     "output_type": "stream",
     "text": [
      "(150, 804)\n",
      "(150,)\n"
     ]
    },
    {
     "data": {
      "text/plain": [
       "OneVsRestClassifier(estimator=XGBClassifier(base_score=0.5, booster='gbtree',\n",
       "                                            boosting_type='rf',\n",
       "                                            colsample_bylevel=1,\n",
       "                                            colsample_bynode=1,\n",
       "                                            colsample_bytree=1, gamma=0,\n",
       "                                            learning_rate=0.1, max_delta_step=0,\n",
       "                                            max_depth=3, min_child_weight=1,\n",
       "                                            missing=None, n_estimators=100,\n",
       "                                            n_jobs=1, nthread=None,\n",
       "                                            objective='binary:logistic',\n",
       "                                            random_state=0, reg_alpha=0,\n",
       "                                            reg_lambda=1, scale_pos_weight=1,\n",
       "                                            seed=None, silent=None, subsample=1,\n",
       "                                            verbosity=1),\n",
       "                    n_jobs=None)"
      ]
     },
     "execution_count": 240,
     "metadata": {},
     "output_type": "execute_result"
    },
    {
     "name": "stdout",
     "output_type": "stream",
     "text": [
      "[2 1 2 0 2 0 1 0 2 1 0 2 1 0 1 0 2 2 0 0 1 0 2 2 2 2 2 0 2 1 1 2 1 2 0 0 0\n",
      " 0 1 1 0 0 1 1 0 2 0 1 2 2 1 0 2 0 1 1 0 2 1 2 1 1 2 2 0 0 1 0 1 1 2 1 2 0\n",
      " 1]\n",
      "[0 1 0 0 1 2 2 0 1 0 1 1 2 0 1 0 2 0 1 1 1 0 2 1 1 2 1 1 0 2 0 1 2 2 1 0 0\n",
      " 2 0 2 1 2 0 1 1 2 1 2 2 1 1 0 1 0 0 2 2 2 2 0 2 0 1 0 0 0 2 2 2 2 1 0 2 1\n",
      " 0]\n",
      "[2 1 2 0 2 0 1 0 2 1 0 2 1 0 1 0 2 2 0 0 1 0 2 2 2 2 2 0 2 1 2 2 1 2 0 0 0\n",
      " 0 1 1 0 0 1 1 0 2 0 1 1 2 1 0 2 0 1 1 0 2 1 2 1 2 1 2 0 0 1 0 1 1 2 1 2 0\n",
      " 1]\n",
      "              precision    recall  f1-score   support\n",
      "\n",
      "           0      1.000     1.000     1.000        25\n",
      "           1      0.920     0.920     0.920        25\n",
      "           2      0.920     0.920     0.920        25\n",
      "\n",
      "    accuracy                          0.947        75\n",
      "   macro avg      0.947     0.947     0.947        75\n",
      "weighted avg      0.947     0.947     0.947        75\n",
      "\n"
     ]
    }
   ],
   "source": [
    "import numpy as np\n",
    "import matplotlib.pyplot as plt\n",
    "from itertools import cycle\n",
    "\n",
    "from sklearn import svm, datasets\n",
    "from sklearn.metrics import roc_curve, auc, roc_auc_score,classification_report\n",
    "from sklearn.model_selection import train_test_split\n",
    "from sklearn.preprocessing import label_binarize\n",
    "from sklearn.multiclass import OneVsRestClassifier,OneVsOneClassifier\n",
    "from scipy import interp\n",
    "from lightgbm import LGBMClassifier\n",
    "from xgboost import XGBClassifier\n",
    "\n",
    "# Import some data to play with\n",
    "iris = datasets.load_iris()\n",
    "x_data = iris.data\n",
    "y_data = iris.target\n",
    "\n",
    "# Binarize the output\n",
    "y_data_bn = label_binarize(y_data, classes=[0, 1, 2])\n",
    "# n_classes = y_data.shape[1]\n",
    "\n",
    "# Add noisy features to make the problem harder\n",
    "random_state = np.random.RandomState(0)\n",
    "n_samples, n_features = x_data.shape\n",
    "x_data = np.c_[x_data, random_state.randn(n_samples, 200 * n_features)]\n",
    "print(x_data.shape) #(150, 804)\n",
    "print(y_data.shape) #(150, 3)\n",
    "\n",
    "# shuffle and split training and test sets\n",
    "X_train, X_test, y_train, y_test = train_test_split(x_data, y_data, test_size=.5, random_state=0,stratify =y_data)\n",
    "\n",
    "####################\n",
    "\n",
    "# Learn to predict each class against the other\n",
    "# model = OneVsRestClassifier(svm.SVC(kernel='linear', probability=True, random_state=random_state))\n",
    "model = OneVsRestClassifier(XGBClassifier(boosting_type     = 'rf'))\n",
    "\n",
    "####################\n",
    "\n",
    "model.fit(X_train, y_train)\n",
    "\n",
    "# Compute ROC curve and ROC area for each class\n",
    "# y_score = model.decision_function(X_test)\n",
    "y_score = model.predict(X_test)\n",
    "\n",
    "print(y_score)\n",
    "print(y_train)\n",
    "print(y_test)\n",
    "print(classification_report(y_test, y_score, digits=3))\n"
   ]
  },
  {
   "cell_type": "code",
   "execution_count": 228,
   "metadata": {
    "ExecuteTime": {
     "end_time": "2020-11-25T06:53:12.043413Z",
     "start_time": "2020-11-25T06:53:12.028568Z"
    },
    "scrolled": true
   },
   "outputs": [
    {
     "name": "stdout",
     "output_type": "stream",
     "text": [
      "[[1 0 0]\n",
      " [1 0 0]\n",
      " [1 0 0]\n",
      " [1 0 0]\n",
      " [1 0 0]\n",
      " [1 0 0]\n",
      " [1 0 0]\n",
      " [1 0 0]\n",
      " [1 0 0]\n",
      " [1 0 0]\n",
      " [1 0 0]\n",
      " [1 0 0]\n",
      " [1 0 0]\n",
      " [1 0 0]\n",
      " [1 0 0]\n",
      " [1 0 0]\n",
      " [1 0 0]\n",
      " [1 0 0]\n",
      " [1 0 0]\n",
      " [1 0 0]\n",
      " [1 0 0]\n",
      " [1 0 0]\n",
      " [1 0 0]\n",
      " [1 0 0]\n",
      " [1 0 0]\n",
      " [1 0 0]\n",
      " [1 0 0]\n",
      " [1 0 0]\n",
      " [1 0 0]\n",
      " [1 0 0]\n",
      " [1 0 0]\n",
      " [1 0 0]\n",
      " [1 0 0]\n",
      " [1 0 0]\n",
      " [1 0 0]\n",
      " [1 0 0]\n",
      " [1 0 0]\n",
      " [1 0 0]\n",
      " [1 0 0]\n",
      " [1 0 0]\n",
      " [1 0 0]\n",
      " [1 0 0]\n",
      " [1 0 0]\n",
      " [1 0 0]\n",
      " [1 0 0]\n",
      " [1 0 0]\n",
      " [1 0 0]\n",
      " [1 0 0]\n",
      " [1 0 0]\n",
      " [1 0 0]\n",
      " [0 1 0]\n",
      " [0 1 0]\n",
      " [0 1 0]\n",
      " [0 1 0]\n",
      " [0 1 0]\n",
      " [0 1 0]\n",
      " [0 1 0]\n",
      " [0 1 0]\n",
      " [0 1 0]\n",
      " [0 1 0]\n",
      " [0 1 0]\n",
      " [0 1 0]\n",
      " [0 1 0]\n",
      " [0 1 0]\n",
      " [0 1 0]\n",
      " [0 1 0]\n",
      " [0 1 0]\n",
      " [0 1 0]\n",
      " [0 1 0]\n",
      " [0 1 0]\n",
      " [0 1 0]\n",
      " [0 1 0]\n",
      " [0 1 0]\n",
      " [0 1 0]\n",
      " [0 1 0]\n",
      " [0 1 0]\n",
      " [0 1 0]\n",
      " [0 1 0]\n",
      " [0 1 0]\n",
      " [0 1 0]\n",
      " [0 1 0]\n",
      " [0 1 0]\n",
      " [0 1 0]\n",
      " [0 1 0]\n",
      " [0 1 0]\n",
      " [0 1 0]\n",
      " [0 1 0]\n",
      " [0 1 0]\n",
      " [0 1 0]\n",
      " [0 1 0]\n",
      " [0 1 0]\n",
      " [0 1 0]\n",
      " [0 1 0]\n",
      " [0 1 0]\n",
      " [0 1 0]\n",
      " [0 1 0]\n",
      " [0 1 0]\n",
      " [0 1 0]\n",
      " [0 1 0]\n",
      " [0 1 0]\n",
      " [0 0 1]\n",
      " [0 0 1]\n",
      " [0 0 1]\n",
      " [0 0 1]\n",
      " [0 0 1]\n",
      " [0 0 1]\n",
      " [0 0 1]\n",
      " [0 0 1]\n",
      " [0 0 1]\n",
      " [0 0 1]\n",
      " [0 0 1]\n",
      " [0 0 1]\n",
      " [0 0 1]\n",
      " [0 0 1]\n",
      " [0 0 1]\n",
      " [0 0 1]\n",
      " [0 0 1]\n",
      " [0 0 1]\n",
      " [0 0 1]\n",
      " [0 0 1]\n",
      " [0 0 1]\n",
      " [0 0 1]\n",
      " [0 0 1]\n",
      " [0 0 1]\n",
      " [0 0 1]\n",
      " [0 0 1]\n",
      " [0 0 1]\n",
      " [0 0 1]\n",
      " [0 0 1]\n",
      " [0 0 1]\n",
      " [0 0 1]\n",
      " [0 0 1]\n",
      " [0 0 1]\n",
      " [0 0 1]\n",
      " [0 0 1]\n",
      " [0 0 1]\n",
      " [0 0 1]\n",
      " [0 0 1]\n",
      " [0 0 1]\n",
      " [0 0 1]\n",
      " [0 0 1]\n",
      " [0 0 1]\n",
      " [0 0 1]\n",
      " [0 0 1]\n",
      " [0 0 1]\n",
      " [0 0 1]\n",
      " [0 0 1]\n",
      " [0 0 1]\n",
      " [0 0 1]\n",
      " [0 0 1]]\n",
      "[0 0 0 0 0 0 0 0 0 0 0 0 0 0 0 0 0 0 0 0 0 0 0 0 0 0 0 0 0 0 0 0 0 0 0 0 0\n",
      " 0 0 0 0 0 0 0 0 0 0 0 0 0 1 1 1 1 1 1 1 1 1 1 1 1 1 1 1 1 1 1 1 1 1 1 1 1\n",
      " 1 1 1 1 1 1 1 1 1 1 1 1 1 1 1 1 1 1 1 1 1 1 1 1 1 1 2 2 2 2 2 2 2 2 2 2 2\n",
      " 2 2 2 2 2 2 2 2 2 2 2 2 2 2 2 2 2 2 2 2 2 2 2 2 2 2 2 2 2 2 2 2 2 2 2 2 2\n",
      " 2 2]\n"
     ]
    }
   ],
   "source": [
    "from sklearn import preprocessing\n",
    "\n",
    "iris = datasets.load_iris()\n",
    "\n",
    "x_data = iris.data\n",
    "y_data = iris.target\n",
    "\n",
    "\n",
    "lb = LabelBinarizer()\n",
    "y_test_binarize = lb.fit_transform(y_data)\n",
    "y_data_ori = lb.inverse_transform(y_test_binarize)\n",
    "\n",
    "\n",
    "print(y_test_binarize)\n",
    "print(y_data_ori)\n"
   ]
  },
  {
   "cell_type": "code",
   "execution_count": 201,
   "metadata": {
    "ExecuteTime": {
     "end_time": "2020-11-25T06:35:02.649469Z",
     "start_time": "2020-11-25T06:35:02.623588Z"
    },
    "scrolled": false
   },
   "outputs": [
    {
     "name": "stdout",
     "output_type": "stream",
     "text": [
      "0.54\n",
      "fpr : [0.   0.46 0.5  1.  ]\n",
      "tpr : [0.   0.08 1.   1.  ]\n",
      "thresholds : [3 2 1 0]\n",
      "==============================   ACCURACY  =================================\n",
      "ACCURACY : 94.67%\n",
      "============================================================================\n",
      "===========================   Confusion Matrix   ===========================\n",
      "[[25  0  0]\n",
      " [ 0 23  2]\n",
      " [ 0  2 23]]\n",
      "TN : 25\n",
      "TP : 23\n",
      "FN : 0\n",
      "FP : 0\n",
      "============================================================================\n",
      "=========================   Precision / Recall   ===========================\n",
      "precision_rate : 94.67% (TP+/TP+FP)\n",
      "recall_rate : 94.67% (TP+/TP+FN)\n",
      "=============================   F1 SCORE   =================================\n",
      "f1_score :  94.67% (2*((precision * recall)/(precision+recall)))\n",
      "================================   AUC_SCORE  ==============================\n",
      "AUC_SCORE : 0.54%\n",
      "============================================================================\n",
      "\n",
      "\n",
      "              precision    recall  f1-score   support\n",
      "\n",
      "           0      1.000     1.000     1.000        25\n",
      "           1      0.920     0.920     0.920        25\n",
      "           2      0.920     0.920     0.920        25\n",
      "\n",
      "    accuracy                          0.947        75\n",
      "   macro avg      0.947     0.947     0.947        75\n",
      "weighted avg      0.947     0.947     0.947        75\n",
      "\n"
     ]
    }
   ],
   "source": [
    "def model_score(**args):    \n",
    "    global TN,TP,FN,FP\n",
    "    global acc_s,f1_s,recall_s,precision_s,auc_score\n",
    "    test_y = args['y_test']\n",
    "    pred_y = args['y_pred']\n",
    "\n",
    "    cm_matrix             = confusion_matrix(test_y,pred_y)\n",
    "    TN                    = int(cm_matrix[0][0])\n",
    "    TP                    = int(cm_matrix[1][1])\n",
    "    FN                    = int(cm_matrix[1][0])\n",
    "    FP                    = int(cm_matrix[0][1])\n",
    "    acc_s                 = float(accuracy_score(test_y, pred_y)*100)\n",
    "    precision_s           = float(precision_score(test_y, pred_y,average='macro')*100)\n",
    "    recall_s              = float(recall_score(test_y, pred_y,average='macro')*100)\n",
    "    f1_s                  = float(f1_score(test_y, pred_y,average='macro')*100)\n",
    "    fpr, tpr, thresholds  = roc_curve(test_y, pred_y, pos_label=1)\n",
    "    auc_score             = auc(fpr,tpr)\n",
    "    print(auc_score)\n",
    "    print('fpr : %s'%fpr)\n",
    "    print('tpr : %s'%tpr)\n",
    "    print('thresholds : %s'%thresholds)\n",
    "#     print(\"============================= Multiclass Classifier =========================\")\n",
    "#     print(\"CLASS : %s \"% clf_class)\n",
    "    print(\"==============================   ACCURACY  =================================\")\n",
    "    print(\"ACCURACY : {0:.2F}%\".format(acc_s))\n",
    "    print(\"============================================================================\")\n",
    "    print(\"===========================   Confusion Matrix   ===========================\")\n",
    "    print(cm_matrix)\n",
    "    print(\"TN : %s\"% TN)\n",
    "    print(\"TP : %s\"% TP)\n",
    "    print(\"FN : %s\"% FN)\n",
    "    print(\"FP : %s\"% FP)\n",
    "    print(\"============================================================================\")\n",
    "    print(\"=========================   Precision / Recall   ===========================\")\n",
    "    print(\"precision_rate : %.2f%% (TP+/TP+FP)\" % precision_s)\n",
    "    print(\"recall_rate : %.2f%% (TP+/TP+FN)\" % recall_s)\n",
    "    print(\"=============================   F1 SCORE   =================================\")\n",
    "    print(\"f1_score :  %.2f%% (2*((precision * recall)/(precision+recall)))\"%f1_s)\n",
    "    print(\"==============================   AUC_SCORE  ===============================\")\n",
    "    print(\"AUC_SCORE : %.2f%%\"%auc_score)\n",
    "    print(\"============================================================================\\n\\n\")\n",
    "    print(classification_report(test_y, pred_y, digits=3))\n",
    "model_score(y_test = y_test,y_pred = y_score)\n",
    "\n",
    "# precision_score(test_y, pred_y)"
   ]
  },
  {
   "cell_type": "markdown",
   "metadata": {},
   "source": [
    "# TSNE"
   ]
  },
  {
   "cell_type": "code",
   "execution_count": 257,
   "metadata": {
    "ExecuteTime": {
     "end_time": "2020-11-27T01:20:05.696183Z",
     "start_time": "2020-11-27T01:18:56.913183Z"
    }
   },
   "outputs": [
    {
     "data": {
      "text/html": [
       "<div>\n",
       "<style scoped>\n",
       "    .dataframe tbody tr th:only-of-type {\n",
       "        vertical-align: middle;\n",
       "    }\n",
       "\n",
       "    .dataframe tbody tr th {\n",
       "        vertical-align: top;\n",
       "    }\n",
       "\n",
       "    .dataframe thead th {\n",
       "        text-align: right;\n",
       "    }\n",
       "</style>\n",
       "<table border=\"1\" class=\"dataframe\">\n",
       "  <thead>\n",
       "    <tr style=\"text-align: right;\">\n",
       "      <th></th>\n",
       "      <th>Sepal length</th>\n",
       "      <th>Sepal width</th>\n",
       "      <th>Petal length</th>\n",
       "      <th>Petal width</th>\n",
       "      <th>labels</th>\n",
       "    </tr>\n",
       "  </thead>\n",
       "  <tbody>\n",
       "    <tr>\n",
       "      <th>0</th>\n",
       "      <td>5.1</td>\n",
       "      <td>3.5</td>\n",
       "      <td>1.4</td>\n",
       "      <td>0.2</td>\n",
       "      <td>0</td>\n",
       "    </tr>\n",
       "    <tr>\n",
       "      <th>1</th>\n",
       "      <td>4.9</td>\n",
       "      <td>3.0</td>\n",
       "      <td>1.4</td>\n",
       "      <td>0.2</td>\n",
       "      <td>0</td>\n",
       "    </tr>\n",
       "    <tr>\n",
       "      <th>2</th>\n",
       "      <td>4.7</td>\n",
       "      <td>3.2</td>\n",
       "      <td>1.3</td>\n",
       "      <td>0.2</td>\n",
       "      <td>0</td>\n",
       "    </tr>\n",
       "    <tr>\n",
       "      <th>3</th>\n",
       "      <td>4.6</td>\n",
       "      <td>3.1</td>\n",
       "      <td>1.5</td>\n",
       "      <td>0.2</td>\n",
       "      <td>0</td>\n",
       "    </tr>\n",
       "    <tr>\n",
       "      <th>4</th>\n",
       "      <td>5.0</td>\n",
       "      <td>3.6</td>\n",
       "      <td>1.4</td>\n",
       "      <td>0.2</td>\n",
       "      <td>0</td>\n",
       "    </tr>\n",
       "  </tbody>\n",
       "</table>\n",
       "</div>"
      ],
      "text/plain": [
       "   Sepal length  Sepal width  Petal length  Petal width  labels\n",
       "0           5.1          3.5           1.4          0.2       0\n",
       "1           4.9          3.0           1.4          0.2       0\n",
       "2           4.7          3.2           1.3          0.2       0\n",
       "3           4.6          3.1           1.5          0.2       0\n",
       "4           5.0          3.6           1.4          0.2       0"
      ]
     },
     "execution_count": 257,
     "metadata": {},
     "output_type": "execute_result"
    },
    {
     "data": {
      "text/html": [
       "<div>\n",
       "<style scoped>\n",
       "    .dataframe tbody tr th:only-of-type {\n",
       "        vertical-align: middle;\n",
       "    }\n",
       "\n",
       "    .dataframe tbody tr th {\n",
       "        vertical-align: top;\n",
       "    }\n",
       "\n",
       "    .dataframe thead th {\n",
       "        text-align: right;\n",
       "    }\n",
       "</style>\n",
       "<table border=\"1\" class=\"dataframe\">\n",
       "  <thead>\n",
       "    <tr style=\"text-align: right;\">\n",
       "      <th></th>\n",
       "      <th>Sepal length</th>\n",
       "      <th>Sepal width</th>\n",
       "      <th>Petal length</th>\n",
       "      <th>Petal width</th>\n",
       "    </tr>\n",
       "  </thead>\n",
       "  <tbody>\n",
       "    <tr>\n",
       "      <th>0</th>\n",
       "      <td>5.1</td>\n",
       "      <td>3.5</td>\n",
       "      <td>1.4</td>\n",
       "      <td>0.2</td>\n",
       "    </tr>\n",
       "    <tr>\n",
       "      <th>1</th>\n",
       "      <td>4.9</td>\n",
       "      <td>3.0</td>\n",
       "      <td>1.4</td>\n",
       "      <td>0.2</td>\n",
       "    </tr>\n",
       "    <tr>\n",
       "      <th>2</th>\n",
       "      <td>4.7</td>\n",
       "      <td>3.2</td>\n",
       "      <td>1.3</td>\n",
       "      <td>0.2</td>\n",
       "    </tr>\n",
       "    <tr>\n",
       "      <th>3</th>\n",
       "      <td>4.6</td>\n",
       "      <td>3.1</td>\n",
       "      <td>1.5</td>\n",
       "      <td>0.2</td>\n",
       "    </tr>\n",
       "    <tr>\n",
       "      <th>4</th>\n",
       "      <td>5.0</td>\n",
       "      <td>3.6</td>\n",
       "      <td>1.4</td>\n",
       "      <td>0.2</td>\n",
       "    </tr>\n",
       "  </tbody>\n",
       "</table>\n",
       "</div>"
      ],
      "text/plain": [
       "   Sepal length  Sepal width  Petal length  Petal width\n",
       "0           5.1          3.5           1.4          0.2\n",
       "1           4.9          3.0           1.4          0.2\n",
       "2           4.7          3.2           1.3          0.2\n",
       "3           4.6          3.1           1.5          0.2\n",
       "4           5.0          3.6           1.4          0.2"
      ]
     },
     "execution_count": 257,
     "metadata": {},
     "output_type": "execute_result"
    },
    {
     "data": {
      "text/plain": [
       "<AxesSubplot:xlabel='xs', ylabel='ys'>"
      ]
     },
     "execution_count": 257,
     "metadata": {},
     "output_type": "execute_result"
    },
    {
     "data": {
      "image/png": "[encoded data removed]",
      "text/plain": [
       "<Figure size 432x288 with 1 Axes>"
      ]
     },
     "metadata": {
      "needs_background": "light"
     },
     "output_type": "display_data"
    }
   ],
   "source": [
    "from sklearn import datasets\n",
    "import pandas as pd\n",
    "import matplotlib.pyplot as plt\n",
    "from sklearn.manifold import TSNE\n",
    "import seaborn as sns\n",
    "\n",
    "iris = datasets.load_iris()\n",
    "\n",
    "labels = pd.DataFrame(iris.target)\n",
    "labels.columns=['labels']\n",
    "data = pd.DataFrame(iris.data)\n",
    "data.columns=['Sepal length','Sepal width','Petal length','Petal width']\n",
    "data = pd.concat([data,labels],axis=1)\n",
    "\n",
    "data.head()\n",
    "\n",
    "feature = data[['Sepal length','Sepal width','Petal length','Petal width']]\n",
    "feature.head()\n",
    "\n",
    "\n",
    "model = TSNE(learning_rate=100)\n",
    "transformed = model.fit_transform(feature)\n",
    "\n",
    "xs = transformed[:,0]\n",
    "ys = transformed[:,1]\n",
    "\n",
    "ss = pd.concat([pd.DataFrame(transformed),labels],axis=1)\n",
    "ss.columns = ['xs','ys','labels']\n",
    "sns.scatterplot(data=ss, x=\"xs\", y=\"ys\", hue=\"labels\", style=\"labels\")"
   ]
  }
 ],
 "metadata": {
  "hide_input": false,
  "kernelspec": {
   "display_name": "Python 3",
   "language": "python",
   "name": "python3"
  },
  "language_info": {
   "codemirror_mode": {
    "name": "ipython",
    "version": 3
   },
   "file_extension": ".py",
   "mimetype": "text/x-python",
   "name": "python",
   "nbconvert_exporter": "python",
   "pygments_lexer": "ipython3",
   "version": "3.7.3"
  },
  "toc": {
   "base_numbering": 1,
   "nav_menu": {},
   "number_sections": true,
   "sideBar": true,
   "skip_h1_title": false,
   "title_cell": "Table of Contents",
   "title_sidebar": "Contents",
   "toc_cell": false,
   "toc_position": {},
   "toc_section_display": true,
   "toc_window_display": false
  },
  "varInspector": {
   "cols": {
    "lenName": 16,
    "lenType": 16,
    "lenVar": "40"
   },
   "kernels_config": {
    "python": {
     "delete_cmd_postfix": "",
     "delete_cmd_prefix": "del ",
     "library": "var_list.py",
     "varRefreshCmd": "print(var_dic_list())"
    },
    "r": {
     "delete_cmd_postfix": ") ",
     "delete_cmd_prefix": "rm(",
     "library": "var_list.r",
     "varRefreshCmd": "cat(var_dic_list()) "
    }
   },
   "types_to_exclude": [
    "module",
    "function",
    "builtin_function_or_method",
    "instance",
    "_Feature"
   ],
   "window_display": false
  }
 },
 "nbformat": 4,
 "nbformat_minor": 2
}
